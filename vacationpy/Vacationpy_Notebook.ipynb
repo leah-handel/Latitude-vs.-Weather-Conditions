{
 "cells": [
  {
   "cell_type": "code",
   "execution_count": 1,
   "metadata": {},
   "outputs": [],
   "source": [
    "import pandas as pd\n",
    "import numpy as np\n",
    "import requests\n",
    "import json\n",
    "from scipy.stats import linregress\n",
    "from citipy import citipy\n",
    "import random\n",
    "from config import gkey\n",
    "import time\n",
    "import matplotlib.pyplot as plt\n",
    "import gmaps"
   ]
  },
  {
   "cell_type": "code",
   "execution_count": 2,
   "metadata": {},
   "outputs": [],
   "source": [
    "weather_url = \"../weatherpy/results/weather_data.csv\""
   ]
  },
  {
   "cell_type": "code",
   "execution_count": 3,
   "metadata": {},
   "outputs": [],
   "source": [
    "weather = pd.read_csv(weather_url)"
   ]
  },
  {
   "cell_type": "code",
   "execution_count": 4,
   "metadata": {},
   "outputs": [
    {
     "data": {
      "text/html": [
       "<div>\n",
       "<style scoped>\n",
       "    .dataframe tbody tr th:only-of-type {\n",
       "        vertical-align: middle;\n",
       "    }\n",
       "\n",
       "    .dataframe tbody tr th {\n",
       "        vertical-align: top;\n",
       "    }\n",
       "\n",
       "    .dataframe thead th {\n",
       "        text-align: right;\n",
       "    }\n",
       "</style>\n",
       "<table border=\"1\" class=\"dataframe\">\n",
       "  <thead>\n",
       "    <tr style=\"text-align: right;\">\n",
       "      <th></th>\n",
       "      <th>city</th>\n",
       "      <th>latitude</th>\n",
       "      <th>longitude</th>\n",
       "      <th>temperature</th>\n",
       "      <th>humidity</th>\n",
       "      <th>cloudiness</th>\n",
       "      <th>wind</th>\n",
       "      <th>hemisphere</th>\n",
       "    </tr>\n",
       "  </thead>\n",
       "  <tbody>\n",
       "    <tr>\n",
       "      <th>0</th>\n",
       "      <td>rikitea</td>\n",
       "      <td>-23.1203</td>\n",
       "      <td>-134.9692</td>\n",
       "      <td>80.15</td>\n",
       "      <td>69</td>\n",
       "      <td>33</td>\n",
       "      <td>11.86</td>\n",
       "      <td>NaN</td>\n",
       "    </tr>\n",
       "    <tr>\n",
       "      <th>1</th>\n",
       "      <td>havre-saint-pierre</td>\n",
       "      <td>50.2334</td>\n",
       "      <td>-63.5986</td>\n",
       "      <td>32.00</td>\n",
       "      <td>64</td>\n",
       "      <td>75</td>\n",
       "      <td>8.05</td>\n",
       "      <td>NaN</td>\n",
       "    </tr>\n",
       "    <tr>\n",
       "      <th>2</th>\n",
       "      <td>castro</td>\n",
       "      <td>-24.7911</td>\n",
       "      <td>-50.0119</td>\n",
       "      <td>70.88</td>\n",
       "      <td>90</td>\n",
       "      <td>100</td>\n",
       "      <td>4.97</td>\n",
       "      <td>NaN</td>\n",
       "    </tr>\n",
       "    <tr>\n",
       "      <th>3</th>\n",
       "      <td>xingyi</td>\n",
       "      <td>24.1877</td>\n",
       "      <td>102.8170</td>\n",
       "      <td>45.57</td>\n",
       "      <td>94</td>\n",
       "      <td>0</td>\n",
       "      <td>4.18</td>\n",
       "      <td>NaN</td>\n",
       "    </tr>\n",
       "    <tr>\n",
       "      <th>4</th>\n",
       "      <td>ushuaia</td>\n",
       "      <td>-54.8000</td>\n",
       "      <td>-68.3000</td>\n",
       "      <td>42.80</td>\n",
       "      <td>70</td>\n",
       "      <td>90</td>\n",
       "      <td>28.77</td>\n",
       "      <td>NaN</td>\n",
       "    </tr>\n",
       "  </tbody>\n",
       "</table>\n",
       "</div>"
      ],
      "text/plain": [
       "                 city  latitude  longitude  temperature  humidity  cloudiness  \\\n",
       "0             rikitea  -23.1203  -134.9692        80.15        69          33   \n",
       "1  havre-saint-pierre   50.2334   -63.5986        32.00        64          75   \n",
       "2              castro  -24.7911   -50.0119        70.88        90         100   \n",
       "3              xingyi   24.1877   102.8170        45.57        94           0   \n",
       "4             ushuaia  -54.8000   -68.3000        42.80        70          90   \n",
       "\n",
       "    wind  hemisphere  \n",
       "0  11.86         NaN  \n",
       "1   8.05         NaN  \n",
       "2   4.97         NaN  \n",
       "3   4.18         NaN  \n",
       "4  28.77         NaN  "
      ]
     },
     "execution_count": 4,
     "metadata": {},
     "output_type": "execute_result"
    }
   ],
   "source": [
    "weather.head()"
   ]
  },
  {
   "cell_type": "code",
   "execution_count": 5,
   "metadata": {},
   "outputs": [
    {
     "data": {
      "text/plain": [
       "city            object\n",
       "latitude       float64\n",
       "longitude      float64\n",
       "temperature    float64\n",
       "humidity         int64\n",
       "cloudiness       int64\n",
       "wind           float64\n",
       "hemisphere     float64\n",
       "dtype: object"
      ]
     },
     "execution_count": 5,
     "metadata": {},
     "output_type": "execute_result"
    }
   ],
   "source": [
    "weather.dtypes"
   ]
  },
  {
   "cell_type": "code",
   "execution_count": 6,
   "metadata": {},
   "outputs": [],
   "source": [
    "locations = weather[[\"latitude\", \"longitude\"]]"
   ]
  },
  {
   "cell_type": "code",
   "execution_count": 7,
   "metadata": {},
   "outputs": [],
   "source": [
    "humidity = weather[\"humidity\"].astype(float)"
   ]
  },
  {
   "cell_type": "code",
   "execution_count": 11,
   "metadata": {},
   "outputs": [
    {
     "data": {
      "application/vnd.jupyter.widget-view+json": {
       "model_id": "60ed36e55a664c5cb00076eddfa00c0e",
       "version_major": 2,
       "version_minor": 0
      },
      "text/plain": [
       "Figure(layout=FigureLayout(height='420px'))"
      ]
     },
     "metadata": {},
     "output_type": "display_data"
    }
   ],
   "source": [
    "fig = gmaps.figure()\n",
    "\n",
    "heat_layer = gmaps.heatmap_layer(locations, weights=humidity, \n",
    "                                 dissipating=False, max_intensity=100,\n",
    "                                 point_radius = 2)\n",
    "\n",
    "fig.add_layer(heat_layer)\n",
    "\n",
    "fig"
   ]
  },
  {
   "cell_type": "code",
   "execution_count": 12,
   "metadata": {},
   "outputs": [
    {
     "data": {
      "text/html": [
       "<div>\n",
       "<style scoped>\n",
       "    .dataframe tbody tr th:only-of-type {\n",
       "        vertical-align: middle;\n",
       "    }\n",
       "\n",
       "    .dataframe tbody tr th {\n",
       "        vertical-align: top;\n",
       "    }\n",
       "\n",
       "    .dataframe thead th {\n",
       "        text-align: right;\n",
       "    }\n",
       "</style>\n",
       "<table border=\"1\" class=\"dataframe\">\n",
       "  <thead>\n",
       "    <tr style=\"text-align: right;\">\n",
       "      <th></th>\n",
       "      <th>city</th>\n",
       "      <th>latitude</th>\n",
       "      <th>longitude</th>\n",
       "      <th>temperature</th>\n",
       "      <th>humidity</th>\n",
       "      <th>cloudiness</th>\n",
       "      <th>wind</th>\n",
       "      <th>hemisphere</th>\n",
       "    </tr>\n",
       "  </thead>\n",
       "  <tbody>\n",
       "    <tr>\n",
       "      <th>109</th>\n",
       "      <td>mundo nuevo</td>\n",
       "      <td>18.7000</td>\n",
       "      <td>-95.5000</td>\n",
       "      <td>81.79</td>\n",
       "      <td>71</td>\n",
       "      <td>0</td>\n",
       "      <td>8.77</td>\n",
       "      <td>NaN</td>\n",
       "    </tr>\n",
       "    <tr>\n",
       "      <th>308</th>\n",
       "      <td>lazaro cardenas</td>\n",
       "      <td>17.9583</td>\n",
       "      <td>-102.2000</td>\n",
       "      <td>79.95</td>\n",
       "      <td>65</td>\n",
       "      <td>14</td>\n",
       "      <td>7.18</td>\n",
       "      <td>NaN</td>\n",
       "    </tr>\n",
       "    <tr>\n",
       "      <th>317</th>\n",
       "      <td>acapulco</td>\n",
       "      <td>16.8634</td>\n",
       "      <td>-99.8901</td>\n",
       "      <td>82.83</td>\n",
       "      <td>60</td>\n",
       "      <td>2</td>\n",
       "      <td>7.23</td>\n",
       "      <td>NaN</td>\n",
       "    </tr>\n",
       "    <tr>\n",
       "      <th>331</th>\n",
       "      <td>maldonado</td>\n",
       "      <td>-34.6667</td>\n",
       "      <td>-54.9167</td>\n",
       "      <td>80.67</td>\n",
       "      <td>78</td>\n",
       "      <td>0</td>\n",
       "      <td>6.91</td>\n",
       "      <td>NaN</td>\n",
       "    </tr>\n",
       "    <tr>\n",
       "      <th>368</th>\n",
       "      <td>coffs harbour</td>\n",
       "      <td>-30.3000</td>\n",
       "      <td>153.1333</td>\n",
       "      <td>78.85</td>\n",
       "      <td>73</td>\n",
       "      <td>1</td>\n",
       "      <td>5.75</td>\n",
       "      <td>NaN</td>\n",
       "    </tr>\n",
       "    <tr>\n",
       "      <th>417</th>\n",
       "      <td>iraquara</td>\n",
       "      <td>-12.2486</td>\n",
       "      <td>-41.6194</td>\n",
       "      <td>82.40</td>\n",
       "      <td>61</td>\n",
       "      <td>0</td>\n",
       "      <td>2.30</td>\n",
       "      <td>NaN</td>\n",
       "    </tr>\n",
       "    <tr>\n",
       "      <th>467</th>\n",
       "      <td>kambia</td>\n",
       "      <td>9.1167</td>\n",
       "      <td>-12.9167</td>\n",
       "      <td>82.40</td>\n",
       "      <td>74</td>\n",
       "      <td>0</td>\n",
       "      <td>9.22</td>\n",
       "      <td>NaN</td>\n",
       "    </tr>\n",
       "    <tr>\n",
       "      <th>470</th>\n",
       "      <td>otane</td>\n",
       "      <td>-39.8833</td>\n",
       "      <td>176.6333</td>\n",
       "      <td>79.00</td>\n",
       "      <td>63</td>\n",
       "      <td>0</td>\n",
       "      <td>4.00</td>\n",
       "      <td>NaN</td>\n",
       "    </tr>\n",
       "    <tr>\n",
       "      <th>476</th>\n",
       "      <td>bahia honda</td>\n",
       "      <td>22.9036</td>\n",
       "      <td>-83.1592</td>\n",
       "      <td>79.57</td>\n",
       "      <td>71</td>\n",
       "      <td>6</td>\n",
       "      <td>8.88</td>\n",
       "      <td>NaN</td>\n",
       "    </tr>\n",
       "  </tbody>\n",
       "</table>\n",
       "</div>"
      ],
      "text/plain": [
       "                city  latitude  longitude  temperature  humidity  cloudiness  \\\n",
       "109      mundo nuevo   18.7000   -95.5000        81.79        71           0   \n",
       "308  lazaro cardenas   17.9583  -102.2000        79.95        65          14   \n",
       "317         acapulco   16.8634   -99.8901        82.83        60           2   \n",
       "331        maldonado  -34.6667   -54.9167        80.67        78           0   \n",
       "368    coffs harbour  -30.3000   153.1333        78.85        73           1   \n",
       "417         iraquara  -12.2486   -41.6194        82.40        61           0   \n",
       "467           kambia    9.1167   -12.9167        82.40        74           0   \n",
       "470            otane  -39.8833   176.6333        79.00        63           0   \n",
       "476      bahia honda   22.9036   -83.1592        79.57        71           6   \n",
       "\n",
       "     wind  hemisphere  \n",
       "109  8.77         NaN  \n",
       "308  7.18         NaN  \n",
       "317  7.23         NaN  \n",
       "331  6.91         NaN  \n",
       "368  5.75         NaN  \n",
       "417  2.30         NaN  \n",
       "467  9.22         NaN  \n",
       "470  4.00         NaN  \n",
       "476  8.88         NaN  "
      ]
     },
     "execution_count": 12,
     "metadata": {},
     "output_type": "execute_result"
    }
   ],
   "source": [
    "weather.loc[(weather[\"temperature\"]>77)&\n",
    "            (weather[\"temperature\"]<83)&\n",
    "            (weather[\"cloudiness\"]<20)&\n",
    "            (weather[\"wind\"]<10)&\n",
    "            (weather[\"humidity\"]>40)&\n",
    "            (weather[\"humidity\"]<80),:]"
   ]
  },
  {
   "cell_type": "code",
   "execution_count": null,
   "metadata": {},
   "outputs": [],
   "source": []
  }
 ],
 "metadata": {
  "kernelspec": {
   "display_name": "Python 3",
   "language": "python",
   "name": "python3"
  },
  "language_info": {
   "codemirror_mode": {
    "name": "ipython",
    "version": 3
   },
   "file_extension": ".py",
   "mimetype": "text/x-python",
   "name": "python",
   "nbconvert_exporter": "python",
   "pygments_lexer": "ipython3",
   "version": "3.8.5"
  }
 },
 "nbformat": 4,
 "nbformat_minor": 4
}
