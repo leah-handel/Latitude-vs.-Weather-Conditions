{
 "cells": [
  {
   "cell_type": "code",
   "execution_count": 109,
   "metadata": {},
   "outputs": [],
   "source": [
    "import pandas as pd\n",
    "import numpy as np\n",
    "import requests\n",
    "import json\n",
    "from scipy.stats import linregress\n",
    "from citipy import citipy\n",
    "import random\n",
    "from config import api_key\n",
    "import time\n",
    "import matplotlib.pyplot as plt"
   ]
  },
  {
   "cell_type": "code",
   "execution_count": 4,
   "metadata": {},
   "outputs": [
    {
     "data": {
      "text/plain": [
       "<citipy.citipy.City at 0x7fdf37525e80>"
      ]
     },
     "execution_count": 4,
     "metadata": {},
     "output_type": "execute_result"
    }
   ],
   "source": [
    "#how does citipy work\n",
    "#https://github.com/wingchen/citipy#looking-up-with-coordinates\n",
    "city = citipy.nearest_city(41.8, -87.6)\n",
    "city"
   ]
  },
  {
   "cell_type": "code",
   "execution_count": 5,
   "metadata": {},
   "outputs": [
    {
     "data": {
      "text/plain": [
       "'chicago'"
      ]
     },
     "execution_count": 5,
     "metadata": {},
     "output_type": "execute_result"
    }
   ],
   "source": [
    "city.city_name"
   ]
  },
  {
   "cell_type": "code",
   "execution_count": 6,
   "metadata": {},
   "outputs": [
    {
     "data": {
      "text/plain": [
       "'us'"
      ]
     },
     "execution_count": 6,
     "metadata": {},
     "output_type": "execute_result"
    }
   ],
   "source": [
    "city.country_code"
   ]
  },
  {
   "cell_type": "code",
   "execution_count": 7,
   "metadata": {},
   "outputs": [],
   "source": [
    "lat_range = (-90, 90)\n",
    "lng_range = (-180, 180)"
   ]
  },
  {
   "cell_type": "code",
   "execution_count": 8,
   "metadata": {},
   "outputs": [],
   "source": [
    "lat_lngs = []\n",
    "cities = []"
   ]
  },
  {
   "cell_type": "code",
   "execution_count": 19,
   "metadata": {},
   "outputs": [],
   "source": [
    "#capping lattitudes at 80 because no one lives up there:\n",
    "\n",
    "lats = np.random.uniform(-80, 80, size = 1300)\n",
    "longs = np.random.uniform(-180, 180, size = 1300)"
   ]
  },
  {
   "cell_type": "code",
   "execution_count": 20,
   "metadata": {},
   "outputs": [],
   "source": [
    "lat_longs=pd.DataFrame({\"latitude\":lats,\n",
    "                       \"longitude\":longs})"
   ]
  },
  {
   "cell_type": "code",
   "execution_count": 21,
   "metadata": {},
   "outputs": [
    {
     "data": {
      "text/html": [
       "<div>\n",
       "<style scoped>\n",
       "    .dataframe tbody tr th:only-of-type {\n",
       "        vertical-align: middle;\n",
       "    }\n",
       "\n",
       "    .dataframe tbody tr th {\n",
       "        vertical-align: top;\n",
       "    }\n",
       "\n",
       "    .dataframe thead th {\n",
       "        text-align: right;\n",
       "    }\n",
       "</style>\n",
       "<table border=\"1\" class=\"dataframe\">\n",
       "  <thead>\n",
       "    <tr style=\"text-align: right;\">\n",
       "      <th></th>\n",
       "      <th>latitude</th>\n",
       "      <th>longitude</th>\n",
       "    </tr>\n",
       "  </thead>\n",
       "  <tbody>\n",
       "    <tr>\n",
       "      <th>0</th>\n",
       "      <td>23.821714</td>\n",
       "      <td>39.245086</td>\n",
       "    </tr>\n",
       "    <tr>\n",
       "      <th>1</th>\n",
       "      <td>-28.868803</td>\n",
       "      <td>-134.911953</td>\n",
       "    </tr>\n",
       "    <tr>\n",
       "      <th>2</th>\n",
       "      <td>51.138842</td>\n",
       "      <td>-64.434241</td>\n",
       "    </tr>\n",
       "    <tr>\n",
       "      <th>3</th>\n",
       "      <td>-49.690197</td>\n",
       "      <td>-105.623578</td>\n",
       "    </tr>\n",
       "    <tr>\n",
       "      <th>4</th>\n",
       "      <td>25.674202</td>\n",
       "      <td>105.188541</td>\n",
       "    </tr>\n",
       "    <tr>\n",
       "      <th>...</th>\n",
       "      <td>...</td>\n",
       "      <td>...</td>\n",
       "    </tr>\n",
       "    <tr>\n",
       "      <th>1195</th>\n",
       "      <td>60.775983</td>\n",
       "      <td>-147.149401</td>\n",
       "    </tr>\n",
       "    <tr>\n",
       "      <th>1196</th>\n",
       "      <td>23.526999</td>\n",
       "      <td>-23.238174</td>\n",
       "    </tr>\n",
       "    <tr>\n",
       "      <th>1197</th>\n",
       "      <td>-56.208654</td>\n",
       "      <td>-83.588958</td>\n",
       "    </tr>\n",
       "    <tr>\n",
       "      <th>1198</th>\n",
       "      <td>-16.811223</td>\n",
       "      <td>70.060189</td>\n",
       "    </tr>\n",
       "    <tr>\n",
       "      <th>1199</th>\n",
       "      <td>-65.354836</td>\n",
       "      <td>106.133435</td>\n",
       "    </tr>\n",
       "  </tbody>\n",
       "</table>\n",
       "<p>1200 rows × 2 columns</p>\n",
       "</div>"
      ],
      "text/plain": [
       "       latitude   longitude\n",
       "0     23.821714   39.245086\n",
       "1    -28.868803 -134.911953\n",
       "2     51.138842  -64.434241\n",
       "3    -49.690197 -105.623578\n",
       "4     25.674202  105.188541\n",
       "...         ...         ...\n",
       "1195  60.775983 -147.149401\n",
       "1196  23.526999  -23.238174\n",
       "1197 -56.208654  -83.588958\n",
       "1198 -16.811223   70.060189\n",
       "1199 -65.354836  106.133435\n",
       "\n",
       "[1200 rows x 2 columns]"
      ]
     },
     "execution_count": 21,
     "metadata": {},
     "output_type": "execute_result"
    }
   ],
   "source": [
    "lat_longs"
   ]
  },
  {
   "cell_type": "code",
   "execution_count": 28,
   "metadata": {},
   "outputs": [],
   "source": [
    "cities = []\n",
    "\n",
    "for index, row in lat_longs.iterrows():\n",
    "    city = citipy.nearest_city(row[\"latitude\"], row[\"longitude\"]).city_name\n",
    "    \n",
    "    if city not in cities:\n",
    "        cities.append(city)\n",
    "\n"
   ]
  },
  {
   "cell_type": "code",
   "execution_count": 29,
   "metadata": {},
   "outputs": [
    {
     "data": {
      "text/plain": [
       "574"
      ]
     },
     "execution_count": 29,
     "metadata": {},
     "output_type": "execute_result"
    }
   ],
   "source": [
    "len(cities)"
   ]
  },
  {
   "cell_type": "code",
   "execution_count": 48,
   "metadata": {},
   "outputs": [
    {
     "data": {
      "text/html": [
       "<div>\n",
       "<style scoped>\n",
       "    .dataframe tbody tr th:only-of-type {\n",
       "        vertical-align: middle;\n",
       "    }\n",
       "\n",
       "    .dataframe tbody tr th {\n",
       "        vertical-align: top;\n",
       "    }\n",
       "\n",
       "    .dataframe thead th {\n",
       "        text-align: right;\n",
       "    }\n",
       "</style>\n",
       "<table border=\"1\" class=\"dataframe\">\n",
       "  <thead>\n",
       "    <tr style=\"text-align: right;\">\n",
       "      <th></th>\n",
       "      <th>city</th>\n",
       "    </tr>\n",
       "  </thead>\n",
       "  <tbody>\n",
       "    <tr>\n",
       "      <th>0</th>\n",
       "      <td>jiddah</td>\n",
       "    </tr>\n",
       "    <tr>\n",
       "      <th>1</th>\n",
       "      <td>rikitea</td>\n",
       "    </tr>\n",
       "    <tr>\n",
       "      <th>2</th>\n",
       "      <td>havre-saint-pierre</td>\n",
       "    </tr>\n",
       "    <tr>\n",
       "      <th>3</th>\n",
       "      <td>castro</td>\n",
       "    </tr>\n",
       "    <tr>\n",
       "      <th>4</th>\n",
       "      <td>xingyi</td>\n",
       "    </tr>\n",
       "  </tbody>\n",
       "</table>\n",
       "</div>"
      ],
      "text/plain": [
       "                 city\n",
       "0              jiddah\n",
       "1             rikitea\n",
       "2  havre-saint-pierre\n",
       "3              castro\n",
       "4              xingyi"
      ]
     },
     "execution_count": 48,
     "metadata": {},
     "output_type": "execute_result"
    }
   ],
   "source": [
    "weather=pd.DataFrame({\"city\":cities})\n",
    "\n",
    "weather.head()"
   ]
  },
  {
   "cell_type": "code",
   "execution_count": 49,
   "metadata": {},
   "outputs": [
    {
     "data": {
      "text/html": [
       "<div>\n",
       "<style scoped>\n",
       "    .dataframe tbody tr th:only-of-type {\n",
       "        vertical-align: middle;\n",
       "    }\n",
       "\n",
       "    .dataframe tbody tr th {\n",
       "        vertical-align: top;\n",
       "    }\n",
       "\n",
       "    .dataframe thead th {\n",
       "        text-align: right;\n",
       "    }\n",
       "</style>\n",
       "<table border=\"1\" class=\"dataframe\">\n",
       "  <thead>\n",
       "    <tr style=\"text-align: right;\">\n",
       "      <th></th>\n",
       "      <th>city</th>\n",
       "      <th>latitude</th>\n",
       "      <th>longitude</th>\n",
       "      <th>temperature</th>\n",
       "      <th>humidity</th>\n",
       "      <th>cloudiness</th>\n",
       "      <th>wind</th>\n",
       "    </tr>\n",
       "  </thead>\n",
       "  <tbody>\n",
       "    <tr>\n",
       "      <th>0</th>\n",
       "      <td>jiddah</td>\n",
       "      <td></td>\n",
       "      <td></td>\n",
       "      <td></td>\n",
       "      <td></td>\n",
       "      <td></td>\n",
       "      <td></td>\n",
       "    </tr>\n",
       "    <tr>\n",
       "      <th>1</th>\n",
       "      <td>rikitea</td>\n",
       "      <td></td>\n",
       "      <td></td>\n",
       "      <td></td>\n",
       "      <td></td>\n",
       "      <td></td>\n",
       "      <td></td>\n",
       "    </tr>\n",
       "    <tr>\n",
       "      <th>2</th>\n",
       "      <td>havre-saint-pierre</td>\n",
       "      <td></td>\n",
       "      <td></td>\n",
       "      <td></td>\n",
       "      <td></td>\n",
       "      <td></td>\n",
       "      <td></td>\n",
       "    </tr>\n",
       "    <tr>\n",
       "      <th>3</th>\n",
       "      <td>castro</td>\n",
       "      <td></td>\n",
       "      <td></td>\n",
       "      <td></td>\n",
       "      <td></td>\n",
       "      <td></td>\n",
       "      <td></td>\n",
       "    </tr>\n",
       "    <tr>\n",
       "      <th>4</th>\n",
       "      <td>xingyi</td>\n",
       "      <td></td>\n",
       "      <td></td>\n",
       "      <td></td>\n",
       "      <td></td>\n",
       "      <td></td>\n",
       "      <td></td>\n",
       "    </tr>\n",
       "  </tbody>\n",
       "</table>\n",
       "</div>"
      ],
      "text/plain": [
       "                 city latitude longitude temperature humidity cloudiness wind\n",
       "0              jiddah                                                        \n",
       "1             rikitea                                                        \n",
       "2  havre-saint-pierre                                                        \n",
       "3              castro                                                        \n",
       "4              xingyi                                                        "
      ]
     },
     "execution_count": 49,
     "metadata": {},
     "output_type": "execute_result"
    }
   ],
   "source": [
    "weather[\"latitude\"] = \"\"\n",
    "weather[\"longitude\"] = \"\"\n",
    "weather[\"temperature\"] = \"\"\n",
    "weather[\"humidity\"] = \"\"\n",
    "weather[\"cloudiness\"] = \"\"\n",
    "weather[\"wind\"] = \"\"\n",
    "weather[\"timestamp\"] = \"\"\n",
    "weather.head()"
   ]
  },
  {
   "cell_type": "code",
   "execution_count": 126,
   "metadata": {},
   "outputs": [],
   "source": [
    "# what inputs does open weather need\n",
    "# https://openweathermap.org/current\n",
    "# api.openweathermap.org/data/2.5/weather?q={city name}&appid={API key}"
   ]
  },
  {
   "cell_type": "code",
   "execution_count": null,
   "metadata": {},
   "outputs": [],
   "source": [
    "#api call from open weather to get some weather"
   ]
  },
  {
   "cell_type": "code",
   "execution_count": 3,
   "metadata": {},
   "outputs": [],
   "source": [
    "test = \"husavik\""
   ]
  },
  {
   "cell_type": "code",
   "execution_count": 13,
   "metadata": {},
   "outputs": [],
   "source": [
    "response = requests.get(f\"http://api.openweathermap.org/data/2.5/weather?q={test}&appid={api_key}&units=imperial\").json()"
   ]
  },
  {
   "cell_type": "code",
   "execution_count": 14,
   "metadata": {},
   "outputs": [
    {
     "name": "stdout",
     "output_type": "stream",
     "text": [
      "{\n",
      "    \"base\": \"stations\",\n",
      "    \"clouds\": {\n",
      "        \"all\": 75\n",
      "    },\n",
      "    \"cod\": 200,\n",
      "    \"coord\": {\n",
      "        \"lat\": 66.0449,\n",
      "        \"lon\": -17.3389\n",
      "    },\n",
      "    \"dt\": 1611690277,\n",
      "    \"id\": 2629833,\n",
      "    \"main\": {\n",
      "        \"feels_like\": 14.56,\n",
      "        \"humidity\": 80,\n",
      "        \"pressure\": 1023,\n",
      "        \"temp\": 23,\n",
      "        \"temp_max\": 23,\n",
      "        \"temp_min\": 23\n",
      "    },\n",
      "    \"name\": \"Husavik\",\n",
      "    \"snow\": {\n",
      "        \"1h\": 0.12\n",
      "    },\n",
      "    \"sys\": {\n",
      "        \"country\": \"IS\",\n",
      "        \"id\": 83,\n",
      "        \"sunrise\": 1611656798,\n",
      "        \"sunset\": 1611677818,\n",
      "        \"type\": 1\n",
      "    },\n",
      "    \"timezone\": 0,\n",
      "    \"visibility\": 10000,\n",
      "    \"weather\": [\n",
      "        {\n",
      "            \"description\": \"light snow\",\n",
      "            \"icon\": \"13n\",\n",
      "            \"id\": 600,\n",
      "            \"main\": \"Snow\"\n",
      "        }\n",
      "    ],\n",
      "    \"wind\": {\n",
      "        \"deg\": 280,\n",
      "        \"speed\": 5.75\n",
      "    }\n",
      "}\n"
     ]
    }
   ],
   "source": [
    "print(json.dumps(response, indent=4, sort_keys=True))"
   ]
  },
  {
   "cell_type": "code",
   "execution_count": 10,
   "metadata": {},
   "outputs": [
    {
     "data": {
      "text/plain": [
       "66.0449"
      ]
     },
     "execution_count": 10,
     "metadata": {},
     "output_type": "execute_result"
    }
   ],
   "source": [
    "#latitude\n",
    "response[\"coord\"][\"lat\"]"
   ]
  },
  {
   "cell_type": "code",
   "execution_count": 11,
   "metadata": {},
   "outputs": [
    {
     "data": {
      "text/plain": [
       "-17.3389"
      ]
     },
     "execution_count": 11,
     "metadata": {},
     "output_type": "execute_result"
    }
   ],
   "source": [
    "#longitude\n",
    "response[\"coord\"][\"lon\"]"
   ]
  },
  {
   "cell_type": "code",
   "execution_count": 15,
   "metadata": {},
   "outputs": [
    {
     "data": {
      "text/plain": [
       "23"
      ]
     },
     "execution_count": 15,
     "metadata": {},
     "output_type": "execute_result"
    }
   ],
   "source": [
    "#temp\n",
    "response[\"main\"][\"temp\"]"
   ]
  },
  {
   "cell_type": "code",
   "execution_count": 18,
   "metadata": {},
   "outputs": [
    {
     "data": {
      "text/plain": [
       "80"
      ]
     },
     "execution_count": 18,
     "metadata": {},
     "output_type": "execute_result"
    }
   ],
   "source": [
    "#humidity\n",
    "response[\"main\"][\"humidity\"]"
   ]
  },
  {
   "cell_type": "code",
   "execution_count": 17,
   "metadata": {},
   "outputs": [
    {
     "data": {
      "text/plain": [
       "75"
      ]
     },
     "execution_count": 17,
     "metadata": {},
     "output_type": "execute_result"
    }
   ],
   "source": [
    "#cloudiness\n",
    "response[\"clouds\"][\"all\"]"
   ]
  },
  {
   "cell_type": "code",
   "execution_count": 16,
   "metadata": {},
   "outputs": [
    {
     "data": {
      "text/plain": [
       "5.75"
      ]
     },
     "execution_count": 16,
     "metadata": {},
     "output_type": "execute_result"
    }
   ],
   "source": [
    "#wind\n",
    "response[\"wind\"][\"speed\"]"
   ]
  },
  {
   "cell_type": "code",
   "execution_count": 37,
   "metadata": {},
   "outputs": [
    {
     "data": {
      "text/html": [
       "<div>\n",
       "<style scoped>\n",
       "    .dataframe tbody tr th:only-of-type {\n",
       "        vertical-align: middle;\n",
       "    }\n",
       "\n",
       "    .dataframe tbody tr th {\n",
       "        vertical-align: top;\n",
       "    }\n",
       "\n",
       "    .dataframe thead th {\n",
       "        text-align: right;\n",
       "    }\n",
       "</style>\n",
       "<table border=\"1\" class=\"dataframe\">\n",
       "  <thead>\n",
       "    <tr style=\"text-align: right;\">\n",
       "      <th></th>\n",
       "      <th>city</th>\n",
       "      <th>latitude</th>\n",
       "      <th>longitude</th>\n",
       "      <th>temperature</th>\n",
       "      <th>humidity</th>\n",
       "      <th>cloudiness</th>\n",
       "      <th>wind</th>\n",
       "    </tr>\n",
       "  </thead>\n",
       "  <tbody>\n",
       "    <tr>\n",
       "      <th>0</th>\n",
       "      <td>Chicago</td>\n",
       "      <td></td>\n",
       "      <td></td>\n",
       "      <td></td>\n",
       "      <td></td>\n",
       "      <td></td>\n",
       "      <td></td>\n",
       "    </tr>\n",
       "    <tr>\n",
       "      <th>1</th>\n",
       "      <td>Lima</td>\n",
       "      <td></td>\n",
       "      <td></td>\n",
       "      <td></td>\n",
       "      <td></td>\n",
       "      <td></td>\n",
       "      <td></td>\n",
       "    </tr>\n",
       "    <tr>\n",
       "      <th>2</th>\n",
       "      <td>Cape Town</td>\n",
       "      <td></td>\n",
       "      <td></td>\n",
       "      <td></td>\n",
       "      <td></td>\n",
       "      <td></td>\n",
       "      <td></td>\n",
       "    </tr>\n",
       "  </tbody>\n",
       "</table>\n",
       "</div>"
      ],
      "text/plain": [
       "        city latitude longitude temperature humidity cloudiness wind\n",
       "0    Chicago                                                        \n",
       "1       Lima                                                        \n",
       "2  Cape Town                                                        "
      ]
     },
     "execution_count": 37,
     "metadata": {},
     "output_type": "execute_result"
    }
   ],
   "source": [
    "test = pd.DataFrame({\"city\":[\"Chicago\", \"Lima\", \"Cape Town\"],\n",
    "                    \"latitude\":\"\",\n",
    "                     \"longitude\":\"\",\n",
    "                     \"temperature\":\"\",\n",
    "                     \"humidity\":\"\",\n",
    "                     \"cloudiness\":\"\",\n",
    "                     \"wind\":\"\"})\n",
    "test.head()"
   ]
  },
  {
   "cell_type": "code",
   "execution_count": null,
   "metadata": {},
   "outputs": [],
   "source": []
  },
  {
   "cell_type": "code",
   "execution_count": 61,
   "metadata": {},
   "outputs": [
    {
     "name": "stdout",
     "output_type": "stream",
     "text": [
      "no data for city #0, jiddah\n",
      "Pulling weather for city #1, rikitea\n",
      "Pulling weather for city #2, havre-saint-pierre\n",
      "Pulling weather for city #3, castro\n",
      "Pulling weather for city #4, xingyi\n",
      "Pulling weather for city #5, ushuaia\n",
      "no data for city #6, karauzyak\n",
      "Pulling weather for city #7, norman wells\n",
      "Pulling weather for city #8, hilo\n",
      "Pulling weather for city #9, umm kaddadah\n",
      "Pulling weather for city #10, mago\n",
      "Pulling weather for city #11, port alfred\n",
      "Pulling weather for city #12, aykhal\n",
      "no data for city #13, saleaula\n",
      "Pulling weather for city #14, grindavik\n",
      "Pulling weather for city #15, severnyy\n",
      "Pulling weather for city #16, deputatskiy\n",
      "Pulling weather for city #17, butaritari\n",
      "Pulling weather for city #18, fairbanks\n",
      "Pulling weather for city #19, pec\n",
      "Pulling weather for city #20, fortuna foothills\n",
      "no data for city #21, umm durman\n",
      "Pulling weather for city #22, alyangula\n",
      "Pulling weather for city #23, balabac\n",
      "Pulling weather for city #24, atuona\n",
      "Pulling weather for city #25, mataura\n",
      "Pulling weather for city #26, dikson\n",
      "Pulling weather for city #27, albany\n",
      "Pulling weather for city #28, georgetown\n",
      "Pulling weather for city #29, opunake\n",
      "Pulling weather for city #30, nikolskoye\n",
      "Pulling weather for city #31, san patricio\n",
      "Pulling weather for city #32, araouane\n",
      "Pulling weather for city #33, mahebourg\n",
      "Pulling weather for city #34, mount gambier\n",
      "Pulling weather for city #35, pudozh\n",
      "Pulling weather for city #36, puerto ayora\n",
      "Pulling weather for city #37, saint-honore\n",
      "Pulling weather for city #38, jamestown\n",
      "Pulling weather for city #39, codrington\n",
      "Pulling weather for city #40, kodiak\n",
      "Pulling weather for city #41, hermanus\n",
      "Pulling weather for city #42, geraldton\n",
      "Pulling weather for city #43, laishevo\n",
      "Pulling weather for city #44, tasiilaq\n",
      "Pulling weather for city #45, amalapuram\n",
      "Pulling weather for city #46, hailar\n",
      "Pulling weather for city #47, mosquera\n",
      "Pulling weather for city #48, gautier\n",
      "Pulling weather for city #49, arraial do cabo\n",
      "Pulling weather for city #50, abha\n",
      "Pulling weather for city #51, nouadhibou\n",
      "Pulling weather for city #52, jalu\n",
      "Pulling weather for city #53, changli\n",
      "Pulling weather for city #54, mount pleasant\n",
      "Pulling weather for city #55, cape town\n",
      "Pulling weather for city #56, avarua\n",
      "Pulling weather for city #57, mar del plata\n",
      "Pulling weather for city #58, sorland\n",
      "Pulling weather for city #59, bambous virieux\n",
      "Pulling weather for city #60, ribeira grande\n",
      "Pulling weather for city #61, bocas del toro\n",
      "Pulling weather for city #62, prince albert\n",
      "Pulling weather for city #63, vostok\n",
      "no data for city #64, dinsor\n",
      "Pulling weather for city #65, naze\n",
      "Pulling weather for city #66, isangel\n",
      "Pulling weather for city #67, punta arenas\n",
      "Pulling weather for city #68, baykit\n",
      "Pulling weather for city #69, bethel\n",
      "Pulling weather for city #70, hofn\n",
      "Pulling weather for city #71, canandaigua\n",
      "no data for city #72, haibowan\n",
      "Pulling weather for city #73, bluff\n",
      "Pulling weather for city #74, praia da vitoria\n",
      "Pulling weather for city #75, saint george\n",
      "Pulling weather for city #76, kiunga\n",
      "no data for city #77, meyungs\n",
      "Pulling weather for city #78, dong hoi\n",
      "Pulling weather for city #79, hithadhoo\n",
      "Pulling weather for city #80, kommunar\n",
      "Pulling weather for city #81, vila\n",
      "Pulling weather for city #82, nagua\n",
      "Pulling weather for city #83, hasaki\n",
      "Pulling weather for city #84, yueyang\n",
      "Pulling weather for city #85, east london\n",
      "Pulling weather for city #86, bambanglipuro\n",
      "Pulling weather for city #87, andenes\n",
      "no data for city #88, suzu\n",
      "Pulling weather for city #89, vaini\n",
      "Pulling weather for city #90, devonport\n",
      "Pulling weather for city #91, grants pass\n",
      "Pulling weather for city #92, okha\n",
      "Pulling weather for city #93, tura\n",
      "Pulling weather for city #94, lujan\n",
      "Pulling weather for city #95, san ramon de la nueva oran\n",
      "no data for city #96, azimur\n",
      "no data for city #97, taolanaro\n",
      "Pulling weather for city #98, vestmannaeyjar\n",
      "Pulling weather for city #99, kapaa\n",
      "Pulling weather for city #100, haines junction\n",
      "Pulling weather for city #101, busselton\n",
      "no data for city #102, warqla\n",
      "Pulling weather for city #103, yatou\n",
      "Pulling weather for city #104, laredo\n",
      "Pulling weather for city #105, ixtapa\n",
      "Pulling weather for city #106, kruisfontein\n",
      "no data for city #107, tsihombe\n",
      "no data for city #108, hunza\n",
      "Pulling weather for city #109, ginda\n",
      "Pulling weather for city #110, poum\n",
      "Pulling weather for city #111, caravelas\n",
      "Pulling weather for city #112, rio grande\n",
      "Pulling weather for city #113, provideniya\n",
      "Pulling weather for city #114, rondonopolis\n",
      "Pulling weather for city #115, shingu\n",
      "Pulling weather for city #116, cidreira\n",
      "no data for city #117, vaitupu\n",
      "Pulling weather for city #118, hobart\n",
      "Pulling weather for city #119, leshukonskoye\n",
      "no data for city #120, anar darreh\n",
      "no data for city #121, amderma\n",
      "Pulling weather for city #122, togur\n",
      "Pulling weather for city #123, maracaibo\n",
      "Pulling weather for city #124, kavieng\n",
      "Pulling weather for city #125, mundo nuevo\n",
      "Pulling weather for city #126, barcelos\n",
      "Pulling weather for city #127, borisoglebskiy\n",
      "Pulling weather for city #128, emerald\n",
      "Pulling weather for city #129, abbeville\n",
      "Pulling weather for city #130, nanortalik\n",
      "no data for city #131, sentyabrskiy\n",
      "Pulling weather for city #132, kuldur\n",
      "Pulling weather for city #133, akyab\n",
      "Pulling weather for city #134, torbay\n",
      "Pulling weather for city #135, kyshtovka\n",
      "Pulling weather for city #136, luderitz\n",
      "Pulling weather for city #137, black river\n",
      "Pulling weather for city #138, fortuna\n",
      "Pulling weather for city #139, faanui\n",
      "Pulling weather for city #140, khatanga\n",
      "Pulling weather for city #141, lebu\n",
      "no data for city #142, mys shmidta\n",
      "Pulling weather for city #143, lamar\n",
      "Pulling weather for city #144, meulaboh\n",
      "Pulling weather for city #145, atar\n",
      "Pulling weather for city #146, tuatapere\n",
      "Pulling weather for city #147, chuy\n",
      "Pulling weather for city #148, pocao de pedras\n",
      "Pulling weather for city #149, batsfjord\n",
      "Pulling weather for city #150, skjervoy\n",
      "Pulling weather for city #151, samarai\n",
      "Pulling weather for city #152, nyagan\n",
      "Pulling weather for city #153, chanika\n",
      "Pulling weather for city #154, cayenne\n",
      "Pulling weather for city #155, ormara\n",
      "no data for city #156, illoqqortoormiut\n",
      "Pulling weather for city #157, prince rupert\n",
      "Pulling weather for city #158, yambio\n",
      "Pulling weather for city #159, rocha\n",
      "Pulling weather for city #160, massakory\n",
      "Pulling weather for city #161, thalgau\n",
      "Pulling weather for city #162, rodotopion\n",
      "Pulling weather for city #163, vao\n",
      "Pulling weather for city #164, coquimbo\n",
      "no data for city #165, lolua\n",
      "Pulling weather for city #166, dunedin\n",
      "no data for city #167, tabiauea\n",
      "Pulling weather for city #168, linkou\n",
      "Pulling weather for city #169, bengkulu\n",
      "Pulling weather for city #170, bathsheba\n",
      "Pulling weather for city #171, thompson\n",
      "Pulling weather for city #172, la union\n",
      "Pulling weather for city #173, richards bay\n",
      "Pulling weather for city #174, taoudenni\n",
      "Pulling weather for city #175, bredasdorp\n",
      "Pulling weather for city #176, ponta do sol\n",
      "Pulling weather for city #177, puerto carreno\n",
      "Pulling weather for city #178, nador\n",
      "Pulling weather for city #179, havelock\n",
      "Pulling weather for city #180, avera\n",
      "no data for city #181, ijaki\n",
      "no data for city #182, kamenskoye\n",
      "no data for city #183, one hundred mile house\n",
      "Pulling weather for city #184, yuzhno-kurilsk\n",
      "Pulling weather for city #185, camabatela\n",
      "Pulling weather for city #186, hajduszoboszlo\n",
      "Pulling weather for city #187, port augusta\n",
      "Pulling weather for city #188, lakes entrance\n",
      "Pulling weather for city #189, airai\n",
      "Pulling weather for city #190, bairiki\n",
      "Pulling weather for city #191, porto walter\n",
      "Pulling weather for city #192, kaitangata\n",
      "Pulling weather for city #193, port-cartier\n",
      "Pulling weather for city #194, harper\n",
      "Pulling weather for city #195, denpasar\n",
      "Pulling weather for city #196, ponta delgada\n",
      "Pulling weather for city #197, yibin\n",
      "Pulling weather for city #198, fukuma\n",
      "Pulling weather for city #199, vila velha\n",
      "Pulling weather for city #200, bontang\n",
      "Pulling weather for city #201, zilair\n",
      "Pulling weather for city #202, road town\n",
      "Pulling weather for city #203, racovita\n",
      "Pulling weather for city #204, chara\n",
      "Pulling weather for city #205, rosarito\n",
      "Pulling weather for city #206, leningradskiy\n",
      "Pulling weather for city #207, raipur\n",
      "Pulling weather for city #208, ayaviri\n",
      "Pulling weather for city #209, fare\n"
     ]
    },
    {
     "name": "stdout",
     "output_type": "stream",
     "text": [
      "Pulling weather for city #210, port arthur\n",
      "Pulling weather for city #211, pisco\n",
      "Pulling weather for city #212, san pedro\n",
      "Pulling weather for city #213, gaoual\n",
      "Pulling weather for city #214, obo\n",
      "Pulling weather for city #215, maniitsoq\n",
      "Pulling weather for city #216, ancud\n",
      "Pulling weather for city #217, valley city\n",
      "Pulling weather for city #218, la ronge\n",
      "Pulling weather for city #219, new norfolk\n",
      "Pulling weather for city #220, villarrobledo\n",
      "Pulling weather for city #221, qaanaaq\n",
      "Pulling weather for city #222, honiara\n",
      "Pulling weather for city #223, novoagansk\n",
      "Pulling weather for city #224, bubaque\n",
      "Pulling weather for city #225, barretos\n",
      "Pulling weather for city #226, lander\n",
      "Pulling weather for city #227, port elizabeth\n",
      "Pulling weather for city #228, mizque\n",
      "Pulling weather for city #229, lorengau\n",
      "Pulling weather for city #230, lata\n",
      "Pulling weather for city #231, chunskiy\n",
      "Pulling weather for city #232, kahului\n",
      "Pulling weather for city #233, pevek\n",
      "Pulling weather for city #234, nanyang\n",
      "Pulling weather for city #235, saldanha\n",
      "no data for city #236, urdzhar\n",
      "Pulling weather for city #237, aksarka\n",
      "Pulling weather for city #238, sao joao da barra\n",
      "Pulling weather for city #239, luwuk\n",
      "Pulling weather for city #240, merrill\n",
      "Pulling weather for city #241, ende\n",
      "Pulling weather for city #242, barrow\n",
      "Pulling weather for city #243, channel-port aux basques\n",
      "Pulling weather for city #244, kyaikto\n",
      "Pulling weather for city #245, oranjestad\n",
      "Pulling weather for city #246, yangambi\n",
      "no data for city #247, kuche\n",
      "Pulling weather for city #248, mount isa\n",
      "Pulling weather for city #249, shilka\n",
      "Pulling weather for city #250, yuancheng\n",
      "Pulling weather for city #251, tiksi\n",
      "Pulling weather for city #252, port blair\n",
      "Pulling weather for city #253, dubai\n",
      "Pulling weather for city #254, hobyo\n",
      "Pulling weather for city #255, yellowknife\n",
      "Pulling weather for city #256, udachnyy\n",
      "Pulling weather for city #257, bonga\n",
      "Pulling weather for city #258, turukhansk\n",
      "no data for city #259, dolbeau\n",
      "Pulling weather for city #260, tevaitoa\n",
      "Pulling weather for city #261, elbistan\n",
      "Pulling weather for city #262, usinsk\n",
      "no data for city #263, grand river south east\n",
      "Pulling weather for city #264, shubarkuduk\n",
      "Pulling weather for city #265, show low\n",
      "Pulling weather for city #266, husavik\n",
      "Pulling weather for city #267, juneau\n",
      "Pulling weather for city #268, sakakah\n",
      "Pulling weather for city #269, cabo san lucas\n",
      "Pulling weather for city #270, northam\n",
      "Pulling weather for city #271, genhe\n",
      "Pulling weather for city #272, konstantinovka\n",
      "Pulling weather for city #273, baghdad\n",
      "Pulling weather for city #274, tagusao\n",
      "no data for city #275, halalo\n",
      "Pulling weather for city #276, ballarat\n",
      "Pulling weather for city #277, clyde river\n",
      "Pulling weather for city #278, shimoda\n",
      "Pulling weather for city #279, lichuan\n",
      "Pulling weather for city #280, ust-tsilma\n",
      "Pulling weather for city #281, longhua\n",
      "Pulling weather for city #282, wainwright\n",
      "Pulling weather for city #283, ruteng\n",
      "no data for city #284, dekoa\n",
      "Pulling weather for city #285, ler\n",
      "Pulling weather for city #286, carnarvon\n",
      "Pulling weather for city #287, carmen\n",
      "Pulling weather for city #288, tipuani\n",
      "Pulling weather for city #289, khorramshahr\n",
      "Pulling weather for city #290, port hardy\n",
      "Pulling weather for city #291, manicore\n",
      "Pulling weather for city #292, vostochnyy\n",
      "Pulling weather for city #293, athabasca\n",
      "Pulling weather for city #294, teeli\n",
      "Pulling weather for city #295, waingapu\n",
      "Pulling weather for city #296, olafsvik\n",
      "Pulling weather for city #297, bac lieu\n",
      "Pulling weather for city #298, dunmore east\n",
      "Pulling weather for city #299, swan hill\n",
      "no data for city #300, belushya guba\n",
      "Pulling weather for city #301, gonbad-e qabus\n",
      "Pulling weather for city #302, gornyy\n",
      "Pulling weather for city #303, ambilobe\n",
      "Pulling weather for city #304, astoria\n",
      "Pulling weather for city #305, tilichiki\n",
      "Pulling weather for city #306, quatre cocos\n",
      "Pulling weather for city #307, lowestoft\n",
      "no data for city #308, bacuit\n",
      "Pulling weather for city #309, te anau\n",
      "Pulling weather for city #310, izumo\n",
      "Pulling weather for city #311, oktyabrskiy\n",
      "Pulling weather for city #312, tondano\n",
      "Pulling weather for city #313, marystown\n",
      "Pulling weather for city #314, changji\n",
      "Pulling weather for city #315, marabba\n",
      "Pulling weather for city #316, san policarpo\n",
      "Pulling weather for city #317, laguna\n",
      "Pulling weather for city #318, tongliao\n",
      "Pulling weather for city #319, guerrero negro\n",
      "Pulling weather for city #320, vestmanna\n",
      "Pulling weather for city #321, jumla\n",
      "Pulling weather for city #322, esperance\n",
      "Pulling weather for city #323, itupiranga\n",
      "Pulling weather for city #324, banjar\n",
      "Pulling weather for city #325, bella union\n",
      "no data for city #326, umzimvubu\n",
      "Pulling weather for city #327, dingle\n",
      "Pulling weather for city #328, yulara\n",
      "Pulling weather for city #329, yerbogachen\n",
      "Pulling weather for city #330, lagoa\n",
      "Pulling weather for city #331, bonavista\n",
      "Pulling weather for city #332, manasa\n",
      "Pulling weather for city #333, biak\n",
      "Pulling weather for city #334, talnakh\n",
      "Pulling weather for city #335, sola\n",
      "no data for city #336, attawapiskat\n",
      "Pulling weather for city #337, saint-georges\n",
      "Pulling weather for city #338, yakovlevka\n",
      "Pulling weather for city #339, souillac\n",
      "Pulling weather for city #340, sorong\n",
      "Pulling weather for city #341, kichera\n",
      "Pulling weather for city #342, lazaro cardenas\n",
      "Pulling weather for city #343, ko samui\n",
      "Pulling weather for city #344, hualmay\n",
      "no data for city #345, balimo\n",
      "Pulling weather for city #346, warrensburg\n",
      "Pulling weather for city #347, ostrovnoy\n",
      "Pulling weather for city #348, upernavik\n",
      "Pulling weather for city #349, sitges\n",
      "Pulling weather for city #350, lasa\n",
      "Pulling weather for city #351, kalabo\n",
      "Pulling weather for city #352, acapulco\n",
      "Pulling weather for city #353, deer lake\n",
      "Pulling weather for city #354, asau\n",
      "Pulling weather for city #355, naron\n",
      "no data for city #356, tumannyy\n",
      "Pulling weather for city #357, seoul\n",
      "Pulling weather for city #358, olot\n",
      "Pulling weather for city #359, kuminskiy\n",
      "Pulling weather for city #360, aras\n",
      "Pulling weather for city #361, itoman\n",
      "Pulling weather for city #362, chingirlau\n",
      "Pulling weather for city #363, cockburn town\n",
      "Pulling weather for city #364, houma\n",
      "no data for city #365, barentsburg\n",
      "Pulling weather for city #366, iqaluit\n",
      "Pulling weather for city #367, salalah\n",
      "Pulling weather for city #368, maldonado\n",
      "Pulling weather for city #369, brae\n",
      "Pulling weather for city #370, samoylovka\n",
      "Pulling weather for city #371, tigil\n",
      "Pulling weather for city #372, victoria\n",
      "Pulling weather for city #373, nago\n",
      "Pulling weather for city #374, brownsville\n",
      "Pulling weather for city #375, erzin\n",
      "Pulling weather for city #376, lakatoro\n",
      "Pulling weather for city #377, waddan\n",
      "Pulling weather for city #378, do gonbadan\n",
      "no data for city #379, ust-kamchatsk\n",
      "Pulling weather for city #380, kapoeta\n",
      "Pulling weather for city #381, sao filipe\n",
      "Pulling weather for city #382, sal rei\n",
      "Pulling weather for city #383, faya\n",
      "Pulling weather for city #384, kiama\n",
      "Pulling weather for city #385, estelle\n",
      "no data for city #386, satitoa\n",
      "Pulling weather for city #387, bukachacha\n",
      "Pulling weather for city #388, mumford\n",
      "Pulling weather for city #389, california city\n",
      "Pulling weather for city #390, dalvik\n",
      "Pulling weather for city #391, aswan\n",
      "Pulling weather for city #392, marsaxlokk\n",
      "Pulling weather for city #393, porto novo\n",
      "Pulling weather for city #394, kamphaeng phet\n",
      "Pulling weather for city #395, river falls\n",
      "Pulling weather for city #396, sitka\n",
      "Pulling weather for city #397, saint-philippe\n",
      "Pulling weather for city #398, havoysund\n",
      "Pulling weather for city #399, kralendijk\n",
      "Pulling weather for city #400, palmerston\n",
      "Pulling weather for city #401, carballo\n",
      "Pulling weather for city #402, mitu\n",
      "Pulling weather for city #403, moerai\n",
      "Pulling weather for city #404, esna\n",
      "Pulling weather for city #405, san cristobal\n",
      "Pulling weather for city #406, acarau\n",
      "Pulling weather for city #407, coffs harbour\n",
      "Pulling weather for city #408, alenquer\n",
      "Pulling weather for city #409, yar-sale\n",
      "Pulling weather for city #410, miranpur\n",
      "Pulling weather for city #411, kaeo\n",
      "Pulling weather for city #412, srandakan\n",
      "Pulling weather for city #413, vlissingen\n",
      "Pulling weather for city #414, severo-kurilsk\n",
      "Pulling weather for city #415, tual\n",
      "Pulling weather for city #416, danjiangkou\n"
     ]
    },
    {
     "name": "stdout",
     "output_type": "stream",
     "text": [
      "Pulling weather for city #417, allapalli\n",
      "Pulling weather for city #418, ketchikan\n",
      "Pulling weather for city #419, uetze\n",
      "Pulling weather for city #420, fort nelson\n",
      "Pulling weather for city #421, sao miguel do araguaia\n",
      "Pulling weather for city #422, touros\n",
      "Pulling weather for city #423, chapleau\n",
      "Pulling weather for city #424, belaya gora\n",
      "Pulling weather for city #425, rafraf\n",
      "Pulling weather for city #426, padang\n",
      "Pulling weather for city #427, iguaba grande\n",
      "Pulling weather for city #428, biltine\n",
      "no data for city #429, paradwip\n",
      "Pulling weather for city #430, margate\n",
      "Pulling weather for city #431, bastia\n",
      "Pulling weather for city #432, southbridge\n",
      "Pulling weather for city #433, saint-jovite\n",
      "Pulling weather for city #434, mandalgovi\n",
      "Pulling weather for city #435, udayagiri\n",
      "Pulling weather for city #436, constitucion\n",
      "Pulling weather for city #437, lashio\n",
      "no data for city #438, eldikan\n",
      "Pulling weather for city #439, grand gaube\n",
      "Pulling weather for city #440, kieta\n",
      "no data for city #441, palabuhanratu\n",
      "Pulling weather for city #442, hirara\n",
      "Pulling weather for city #443, takoradi\n",
      "Pulling weather for city #444, cairns\n",
      "Pulling weather for city #445, los llanos de aridane\n",
      "no data for city #446, phan rang\n",
      "Pulling weather for city #447, lavrentiya\n",
      "Pulling weather for city #448, conceicao do araguaia\n",
      "Pulling weather for city #449, leh\n",
      "Pulling weather for city #450, derzhavinsk\n",
      "Pulling weather for city #451, kamenka\n",
      "Pulling weather for city #452, baruun-urt\n",
      "Pulling weather for city #453, dafeng\n",
      "Pulling weather for city #454, prokopyevsk\n",
      "Pulling weather for city #455, linhares\n",
      "no data for city #456, sataua\n",
      "Pulling weather for city #457, natal\n",
      "Pulling weather for city #458, yumen\n",
      "Pulling weather for city #459, marsa matruh\n",
      "Pulling weather for city #460, pimentel\n",
      "Pulling weather for city #461, iraquara\n",
      "Pulling weather for city #462, san andres\n",
      "Pulling weather for city #463, nowy dwor gdanski\n",
      "Pulling weather for city #464, orbetello\n",
      "Pulling weather for city #465, shymkent\n",
      "Pulling weather for city #466, ghanzi\n",
      "Pulling weather for city #467, kavaratti\n",
      "Pulling weather for city #468, taltal\n",
      "Pulling weather for city #469, nemuro\n",
      "no data for city #470, grand centre\n",
      "Pulling weather for city #471, adrar\n",
      "Pulling weather for city #472, yaan\n",
      "Pulling weather for city #473, flin flon\n",
      "Pulling weather for city #474, college\n",
      "Pulling weather for city #475, bara\n",
      "Pulling weather for city #476, moche\n",
      "Pulling weather for city #477, hami\n",
      "Pulling weather for city #478, nishihara\n",
      "Pulling weather for city #479, chicama\n",
      "no data for city #480, tarudant\n",
      "Pulling weather for city #481, balyaga\n",
      "Pulling weather for city #482, kenitra\n",
      "Pulling weather for city #483, cuncolim\n",
      "Pulling weather for city #484, wattegama\n",
      "Pulling weather for city #485, tynda\n",
      "Pulling weather for city #486, macapa\n",
      "Pulling weather for city #487, montclair\n",
      "Pulling weather for city #488, sao jose da coroa grande\n",
      "Pulling weather for city #489, inuvik\n",
      "Pulling weather for city #490, camara de lobos\n",
      "Pulling weather for city #491, borba\n",
      "Pulling weather for city #492, iracoubo\n",
      "Pulling weather for city #493, scarborough\n",
      "Pulling weather for city #494, cherdyn\n",
      "Pulling weather for city #495, basco\n",
      "Pulling weather for city #496, tarko-sale\n",
      "Pulling weather for city #497, katsuura\n",
      "Pulling weather for city #498, naryan-mar\n",
      "Pulling weather for city #499, matata\n",
      "no data for city #500, karaul\n",
      "Pulling weather for city #501, eskil\n",
      "Pulling weather for city #502, fonte boa\n",
      "Pulling weather for city #503, morganton\n",
      "Pulling weather for city #504, baherden\n",
      "Pulling weather for city #505, soure\n",
      "Pulling weather for city #506, poyarkovo\n",
      "Pulling weather for city #507, qui nhon\n",
      "Pulling weather for city #508, almeirim\n",
      "Pulling weather for city #509, nioki\n",
      "Pulling weather for city #510, chokurdakh\n",
      "no data for city #511, bargal\n",
      "Pulling weather for city #512, pemba\n",
      "Pulling weather for city #513, osmena\n",
      "Pulling weather for city #514, stornoway\n",
      "Pulling weather for city #515, kambia\n",
      "Pulling weather for city #516, doha\n",
      "Pulling weather for city #517, srednekolymsk\n",
      "no data for city #518, palaiokhora\n",
      "Pulling weather for city #519, otane\n",
      "Pulling weather for city #520, klaksvik\n",
      "Pulling weather for city #521, virar\n",
      "Pulling weather for city #522, nalut\n",
      "Pulling weather for city #523, corrales\n",
      "Pulling weather for city #524, sfantu gheorghe\n",
      "Pulling weather for city #525, bahia honda\n",
      "Pulling weather for city #526, kuvandyk\n",
      "Pulling weather for city #527, taloqan\n",
      "Pulling weather for city #528, mahibadhoo\n",
      "Pulling weather for city #529, novaya bryan\n",
      "Pulling weather for city #530, altay\n",
      "no data for city #531, gharb\n",
      "Pulling weather for city #532, north bend\n",
      "Pulling weather for city #533, tawang\n",
      "Pulling weather for city #534, killybegs\n",
      "Pulling weather for city #535, pirai do sul\n",
      "Pulling weather for city #536, daru\n",
      "Pulling weather for city #537, neyshabur\n",
      "no data for city #538, suao\n",
      "Pulling weather for city #539, chernyshevskiy\n",
      "Pulling weather for city #540, cherskiy\n",
      "Pulling weather for city #541, pacific grove\n",
      "no data for city #542, cockburn harbour\n",
      "Pulling weather for city #543, ilulissat\n",
      "Pulling weather for city #544, el tigre\n",
      "Pulling weather for city #545, liverpool\n",
      "Pulling weather for city #546, tuktoyaktuk\n",
      "Pulling weather for city #547, hamilton\n",
      "Pulling weather for city #548, tototlan\n",
      "Pulling weather for city #549, saint anthony\n",
      "Pulling weather for city #550, grafton\n",
      "no data for city #551, samusu\n",
      "Pulling weather for city #552, severo-yeniseyskiy\n",
      "Pulling weather for city #553, aquiraz\n",
      "no data for city #554, gazni\n",
      "Pulling weather for city #555, thaton\n",
      "Pulling weather for city #556, ovalle\n",
      "no data for city #557, dzhusaly\n",
      "Pulling weather for city #558, cartagena\n",
      "Pulling weather for city #559, sistranda\n",
      "Pulling weather for city #560, axim\n",
      "Pulling weather for city #561, batagay-alyta\n",
      "Pulling weather for city #562, portland\n",
      "no data for city #563, makung\n",
      "Pulling weather for city #564, alofi\n",
      "Pulling weather for city #565, sisimiut\n",
      "Pulling weather for city #566, hervey bay\n",
      "Pulling weather for city #567, tarkwa\n",
      "Pulling weather for city #568, patitirion\n",
      "Pulling weather for city #569, cobija\n",
      "Pulling weather for city #570, nizhniy kuranakh\n",
      "Pulling weather for city #571, ekhabi\n",
      "Pulling weather for city #572, lompoc\n",
      "Pulling weather for city #573, palmer\n"
     ]
    }
   ],
   "source": [
    "for index, row in weather.iterrows():\n",
    "    city = row[\"city\"]\n",
    "    \n",
    "    not_json_yet = requests.get(f\"http://api.openweathermap.org/data/2.5/weather?q={city}&appid={api_key}&units=imperial\")\n",
    "    \n",
    "    if not_json_yet.status_code == 200:\n",
    "        \n",
    "        response = not_json_yet.json()\n",
    "    \n",
    "        weather.loc[index, \"latitude\"] = response[\"coord\"][\"lat\"]\n",
    "        weather.loc[index, \"longitude\"] = response[\"coord\"][\"lon\"]\n",
    "        weather.loc[index, \"temperature\"] = response[\"main\"][\"temp\"]\n",
    "        weather.loc[index, \"humidity\"] = response[\"main\"][\"humidity\"]\n",
    "        weather.loc[index, \"cloudiness\"] = response[\"clouds\"][\"all\"]\n",
    "        weather.loc[index, \"wind\"] = response[\"wind\"][\"speed\"]\n",
    "    \n",
    "        print(f\"Pulling weather for city #{index}, {city}\")\n",
    "    \n",
    "        time.sleep(1)\n",
    "        #to prevent maxing out the api call\n",
    "    \n",
    "    else: \n",
    "        print(f\"no data for city #{index}, {city}\")"
   ]
  },
  {
   "cell_type": "code",
   "execution_count": 62,
   "metadata": {},
   "outputs": [
    {
     "data": {
      "text/html": [
       "<div>\n",
       "<style scoped>\n",
       "    .dataframe tbody tr th:only-of-type {\n",
       "        vertical-align: middle;\n",
       "    }\n",
       "\n",
       "    .dataframe tbody tr th {\n",
       "        vertical-align: top;\n",
       "    }\n",
       "\n",
       "    .dataframe thead th {\n",
       "        text-align: right;\n",
       "    }\n",
       "</style>\n",
       "<table border=\"1\" class=\"dataframe\">\n",
       "  <thead>\n",
       "    <tr style=\"text-align: right;\">\n",
       "      <th></th>\n",
       "      <th>city</th>\n",
       "      <th>latitude</th>\n",
       "      <th>longitude</th>\n",
       "      <th>temperature</th>\n",
       "      <th>humidity</th>\n",
       "      <th>cloudiness</th>\n",
       "      <th>wind</th>\n",
       "    </tr>\n",
       "  </thead>\n",
       "  <tbody>\n",
       "    <tr>\n",
       "      <th>0</th>\n",
       "      <td>jiddah</td>\n",
       "      <td></td>\n",
       "      <td></td>\n",
       "      <td></td>\n",
       "      <td></td>\n",
       "      <td></td>\n",
       "      <td></td>\n",
       "    </tr>\n",
       "    <tr>\n",
       "      <th>1</th>\n",
       "      <td>rikitea</td>\n",
       "      <td>-23.1203</td>\n",
       "      <td>-134.969</td>\n",
       "      <td>80.15</td>\n",
       "      <td>69</td>\n",
       "      <td>33</td>\n",
       "      <td>11.86</td>\n",
       "    </tr>\n",
       "    <tr>\n",
       "      <th>2</th>\n",
       "      <td>havre-saint-pierre</td>\n",
       "      <td>50.2334</td>\n",
       "      <td>-63.5986</td>\n",
       "      <td>32</td>\n",
       "      <td>64</td>\n",
       "      <td>75</td>\n",
       "      <td>8.05</td>\n",
       "    </tr>\n",
       "    <tr>\n",
       "      <th>3</th>\n",
       "      <td>castro</td>\n",
       "      <td>-24.7911</td>\n",
       "      <td>-50.0119</td>\n",
       "      <td>70.88</td>\n",
       "      <td>90</td>\n",
       "      <td>100</td>\n",
       "      <td>4.97</td>\n",
       "    </tr>\n",
       "    <tr>\n",
       "      <th>4</th>\n",
       "      <td>xingyi</td>\n",
       "      <td>24.1877</td>\n",
       "      <td>102.817</td>\n",
       "      <td>45.57</td>\n",
       "      <td>94</td>\n",
       "      <td>0</td>\n",
       "      <td>4.18</td>\n",
       "    </tr>\n",
       "  </tbody>\n",
       "</table>\n",
       "</div>"
      ],
      "text/plain": [
       "                 city latitude longitude temperature humidity cloudiness  \\\n",
       "0              jiddah                                                      \n",
       "1             rikitea -23.1203  -134.969       80.15       69         33   \n",
       "2  havre-saint-pierre  50.2334  -63.5986          32       64         75   \n",
       "3              castro -24.7911  -50.0119       70.88       90        100   \n",
       "4              xingyi  24.1877   102.817       45.57       94          0   \n",
       "\n",
       "    wind  \n",
       "0         \n",
       "1  11.86  \n",
       "2   8.05  \n",
       "3   4.97  \n",
       "4   4.18  "
      ]
     },
     "execution_count": 62,
     "metadata": {},
     "output_type": "execute_result"
    }
   ],
   "source": [
    "weather.head()"
   ]
  },
  {
   "cell_type": "code",
   "execution_count": 73,
   "metadata": {},
   "outputs": [],
   "source": [
    "weather.drop(weather.loc[weather[\"latitude\"] == \"\",:].index, inplace=True)\n",
    "#borrowed from https://stackoverflow.com/questions/13851535/how-to-delete-rows-from-a-pandas-dataframe-based-on-a-conditional-expression"
   ]
  },
  {
   "cell_type": "code",
   "execution_count": 74,
   "metadata": {},
   "outputs": [
    {
     "data": {
      "text/html": [
       "<div>\n",
       "<style scoped>\n",
       "    .dataframe tbody tr th:only-of-type {\n",
       "        vertical-align: middle;\n",
       "    }\n",
       "\n",
       "    .dataframe tbody tr th {\n",
       "        vertical-align: top;\n",
       "    }\n",
       "\n",
       "    .dataframe thead th {\n",
       "        text-align: right;\n",
       "    }\n",
       "</style>\n",
       "<table border=\"1\" class=\"dataframe\">\n",
       "  <thead>\n",
       "    <tr style=\"text-align: right;\">\n",
       "      <th></th>\n",
       "      <th>city</th>\n",
       "      <th>latitude</th>\n",
       "      <th>longitude</th>\n",
       "      <th>temperature</th>\n",
       "      <th>humidity</th>\n",
       "      <th>cloudiness</th>\n",
       "      <th>wind</th>\n",
       "    </tr>\n",
       "  </thead>\n",
       "  <tbody>\n",
       "    <tr>\n",
       "      <th>1</th>\n",
       "      <td>rikitea</td>\n",
       "      <td>-23.1203</td>\n",
       "      <td>-134.969</td>\n",
       "      <td>80.15</td>\n",
       "      <td>69</td>\n",
       "      <td>33</td>\n",
       "      <td>11.86</td>\n",
       "    </tr>\n",
       "    <tr>\n",
       "      <th>2</th>\n",
       "      <td>havre-saint-pierre</td>\n",
       "      <td>50.2334</td>\n",
       "      <td>-63.5986</td>\n",
       "      <td>32</td>\n",
       "      <td>64</td>\n",
       "      <td>75</td>\n",
       "      <td>8.05</td>\n",
       "    </tr>\n",
       "    <tr>\n",
       "      <th>3</th>\n",
       "      <td>castro</td>\n",
       "      <td>-24.7911</td>\n",
       "      <td>-50.0119</td>\n",
       "      <td>70.88</td>\n",
       "      <td>90</td>\n",
       "      <td>100</td>\n",
       "      <td>4.97</td>\n",
       "    </tr>\n",
       "    <tr>\n",
       "      <th>4</th>\n",
       "      <td>xingyi</td>\n",
       "      <td>24.1877</td>\n",
       "      <td>102.817</td>\n",
       "      <td>45.57</td>\n",
       "      <td>94</td>\n",
       "      <td>0</td>\n",
       "      <td>4.18</td>\n",
       "    </tr>\n",
       "    <tr>\n",
       "      <th>5</th>\n",
       "      <td>ushuaia</td>\n",
       "      <td>-54.8</td>\n",
       "      <td>-68.3</td>\n",
       "      <td>42.8</td>\n",
       "      <td>70</td>\n",
       "      <td>90</td>\n",
       "      <td>28.77</td>\n",
       "    </tr>\n",
       "    <tr>\n",
       "      <th>...</th>\n",
       "      <td>...</td>\n",
       "      <td>...</td>\n",
       "      <td>...</td>\n",
       "      <td>...</td>\n",
       "      <td>...</td>\n",
       "      <td>...</td>\n",
       "      <td>...</td>\n",
       "    </tr>\n",
       "    <tr>\n",
       "      <th>569</th>\n",
       "      <td>cobija</td>\n",
       "      <td>-11.0267</td>\n",
       "      <td>-68.7692</td>\n",
       "      <td>79.65</td>\n",
       "      <td>80</td>\n",
       "      <td>100</td>\n",
       "      <td>2.39</td>\n",
       "    </tr>\n",
       "    <tr>\n",
       "      <th>570</th>\n",
       "      <td>nizhniy kuranakh</td>\n",
       "      <td>58.8353</td>\n",
       "      <td>125.487</td>\n",
       "      <td>-35.18</td>\n",
       "      <td>80</td>\n",
       "      <td>100</td>\n",
       "      <td>1.57</td>\n",
       "    </tr>\n",
       "    <tr>\n",
       "      <th>571</th>\n",
       "      <td>ekhabi</td>\n",
       "      <td>53.5102</td>\n",
       "      <td>142.967</td>\n",
       "      <td>-1.61</td>\n",
       "      <td>93</td>\n",
       "      <td>100</td>\n",
       "      <td>8.41</td>\n",
       "    </tr>\n",
       "    <tr>\n",
       "      <th>572</th>\n",
       "      <td>lompoc</td>\n",
       "      <td>34.6391</td>\n",
       "      <td>-120.458</td>\n",
       "      <td>51.4</td>\n",
       "      <td>47</td>\n",
       "      <td>1</td>\n",
       "      <td>12.66</td>\n",
       "    </tr>\n",
       "    <tr>\n",
       "      <th>573</th>\n",
       "      <td>palmer</td>\n",
       "      <td>42.1584</td>\n",
       "      <td>-72.3287</td>\n",
       "      <td>27.43</td>\n",
       "      <td>86</td>\n",
       "      <td>90</td>\n",
       "      <td>3.96</td>\n",
       "    </tr>\n",
       "  </tbody>\n",
       "</table>\n",
       "<p>518 rows × 7 columns</p>\n",
       "</div>"
      ],
      "text/plain": [
       "                   city latitude longitude temperature humidity cloudiness  \\\n",
       "1               rikitea -23.1203  -134.969       80.15       69         33   \n",
       "2    havre-saint-pierre  50.2334  -63.5986          32       64         75   \n",
       "3                castro -24.7911  -50.0119       70.88       90        100   \n",
       "4                xingyi  24.1877   102.817       45.57       94          0   \n",
       "5               ushuaia    -54.8     -68.3        42.8       70         90   \n",
       "..                  ...      ...       ...         ...      ...        ...   \n",
       "569              cobija -11.0267  -68.7692       79.65       80        100   \n",
       "570    nizhniy kuranakh  58.8353   125.487      -35.18       80        100   \n",
       "571              ekhabi  53.5102   142.967       -1.61       93        100   \n",
       "572              lompoc  34.6391  -120.458        51.4       47          1   \n",
       "573              palmer  42.1584  -72.3287       27.43       86         90   \n",
       "\n",
       "      wind  \n",
       "1    11.86  \n",
       "2     8.05  \n",
       "3     4.97  \n",
       "4     4.18  \n",
       "5    28.77  \n",
       "..     ...  \n",
       "569   2.39  \n",
       "570   1.57  \n",
       "571   8.41  \n",
       "572  12.66  \n",
       "573   3.96  \n",
       "\n",
       "[518 rows x 7 columns]"
      ]
     },
     "execution_count": 74,
     "metadata": {},
     "output_type": "execute_result"
    }
   ],
   "source": [
    "weather"
   ]
  },
  {
   "cell_type": "code",
   "execution_count": 76,
   "metadata": {},
   "outputs": [],
   "source": [
    "weather.to_csv(\"results/weather_data.csv\", index=False)"
   ]
  },
  {
   "cell_type": "code",
   "execution_count": 81,
   "metadata": {},
   "outputs": [
    {
     "data": {
      "text/plain": [
       "Text(0.5, 0, 'Latitude')"
      ]
     },
     "execution_count": 81,
     "metadata": {},
     "output_type": "execute_result"
    },
    {
     "data": {
      "image/png": "[encoded data removed]",
      "text/plain": [
       "<Figure size 432x288 with 1 Axes>"
      ]
     },
     "metadata": {
      "needs_background": "light"
     },
     "output_type": "display_data"
    }
   ],
   "source": [
    "plt.scatter(weather[\"latitude\"], weather[\"temperature\"])\n",
    "plt.title(\"Latitude vs. Temperature\")\n",
    "plt.ylabel(\"Temperature\")\n",
    "plt.xlabel(\"Latitude\")"
   ]
  },
  {
   "cell_type": "code",
   "execution_count": null,
   "metadata": {},
   "outputs": [],
   "source": [
    "# data note: my cities list doesn't have any latitudes below -60, but that's because there aren't any cities below that latitude! https://en.wikipedia.org/wiki/Southernmost_settlements"
   ]
  },
  {
   "cell_type": "code",
   "execution_count": null,
   "metadata": {},
   "outputs": [],
   "source": [
    "# Each dot in this scatterplot represents one city. Its position on the x axis shows how farth north or south it is on earth, with 0 as the equator. Its position on the y axis shows how hot it was there at the time the data was pulled. There is no data below a latitude of -60 (60 degrees south) because there are no cities that far south. The graph isn't symmetrical because it's winter in the northern hemisphere and summer in the southern hemisphere."
   ]
  },
  {
   "cell_type": "code",
   "execution_count": 82,
   "metadata": {},
   "outputs": [
    {
     "data": {
      "text/plain": [
       "Text(0.5, 0, 'Latitude')"
      ]
     },
     "execution_count": 82,
     "metadata": {},
     "output_type": "execute_result"
    },
    {
     "data": {
      "image/png": "[encoded data removed]",
      "text/plain": [
       "<Figure size 432x288 with 1 Axes>"
      ]
     },
     "metadata": {
      "needs_background": "light"
     },
     "output_type": "display_data"
    }
   ],
   "source": [
    "plt.scatter(weather[\"latitude\"], weather[\"humidity\"])\n",
    "plt.title(\"Latitude vs. Humidity\")\n",
    "plt.ylabel(\"Humidity\")\n",
    "plt.xlabel(\"Latitude\")"
   ]
  },
  {
   "cell_type": "code",
   "execution_count": 124,
   "metadata": {},
   "outputs": [
    {
     "data": {
      "text/html": [
       "<div>\n",
       "<style scoped>\n",
       "    .dataframe tbody tr th:only-of-type {\n",
       "        vertical-align: middle;\n",
       "    }\n",
       "\n",
       "    .dataframe tbody tr th {\n",
       "        vertical-align: top;\n",
       "    }\n",
       "\n",
       "    .dataframe thead th {\n",
       "        text-align: right;\n",
       "    }\n",
       "</style>\n",
       "<table border=\"1\" class=\"dataframe\">\n",
       "  <thead>\n",
       "    <tr style=\"text-align: right;\">\n",
       "      <th></th>\n",
       "      <th>city</th>\n",
       "      <th>latitude</th>\n",
       "      <th>longitude</th>\n",
       "      <th>temperature</th>\n",
       "      <th>humidity</th>\n",
       "      <th>cloudiness</th>\n",
       "      <th>wind</th>\n",
       "      <th>hemisphere</th>\n",
       "    </tr>\n",
       "  </thead>\n",
       "  <tbody>\n",
       "    <tr>\n",
       "      <th>9</th>\n",
       "      <td>umm kaddadah</td>\n",
       "      <td>13.6017</td>\n",
       "      <td>26.6876</td>\n",
       "      <td>68.74</td>\n",
       "      <td>22</td>\n",
       "      <td>12</td>\n",
       "      <td>11.61</td>\n",
       "      <td></td>\n",
       "    </tr>\n",
       "    <tr>\n",
       "      <th>32</th>\n",
       "      <td>araouane</td>\n",
       "      <td>18.9048</td>\n",
       "      <td>-3.5265</td>\n",
       "      <td>72.81</td>\n",
       "      <td>15</td>\n",
       "      <td>0</td>\n",
       "      <td>10.36</td>\n",
       "      <td></td>\n",
       "    </tr>\n",
       "    <tr>\n",
       "      <th>52</th>\n",
       "      <td>jalu</td>\n",
       "      <td>29.0331</td>\n",
       "      <td>21.5482</td>\n",
       "      <td>63.28</td>\n",
       "      <td>27</td>\n",
       "      <td>51</td>\n",
       "      <td>12.17</td>\n",
       "      <td></td>\n",
       "    </tr>\n",
       "    <tr>\n",
       "      <th>145</th>\n",
       "      <td>atar</td>\n",
       "      <td>20.5169</td>\n",
       "      <td>-13.0499</td>\n",
       "      <td>71.46</td>\n",
       "      <td>19</td>\n",
       "      <td>0</td>\n",
       "      <td>7.23</td>\n",
       "      <td></td>\n",
       "    </tr>\n",
       "    <tr>\n",
       "      <th>160</th>\n",
       "      <td>massakory</td>\n",
       "      <td>12.996</td>\n",
       "      <td>15.7293</td>\n",
       "      <td>77.18</td>\n",
       "      <td>17</td>\n",
       "      <td>91</td>\n",
       "      <td>12.66</td>\n",
       "      <td></td>\n",
       "    </tr>\n",
       "    <tr>\n",
       "      <th>174</th>\n",
       "      <td>taoudenni</td>\n",
       "      <td>22.6783</td>\n",
       "      <td>-3.9836</td>\n",
       "      <td>73.26</td>\n",
       "      <td>19</td>\n",
       "      <td>0</td>\n",
       "      <td>12.57</td>\n",
       "      <td></td>\n",
       "    </tr>\n",
       "    <tr>\n",
       "      <th>188</th>\n",
       "      <td>lakes entrance</td>\n",
       "      <td>-37.8811</td>\n",
       "      <td>147.981</td>\n",
       "      <td>55</td>\n",
       "      <td>1</td>\n",
       "      <td>4</td>\n",
       "      <td>3</td>\n",
       "      <td></td>\n",
       "    </tr>\n",
       "    <tr>\n",
       "      <th>213</th>\n",
       "      <td>gaoual</td>\n",
       "      <td>11.75</td>\n",
       "      <td>-13.2</td>\n",
       "      <td>77.52</td>\n",
       "      <td>17</td>\n",
       "      <td>2</td>\n",
       "      <td>1.68</td>\n",
       "      <td></td>\n",
       "    </tr>\n",
       "    <tr>\n",
       "      <th>285</th>\n",
       "      <td>ler</td>\n",
       "      <td>8.3018</td>\n",
       "      <td>30.1418</td>\n",
       "      <td>79.12</td>\n",
       "      <td>28</td>\n",
       "      <td>0</td>\n",
       "      <td>5.03</td>\n",
       "      <td></td>\n",
       "    </tr>\n",
       "    <tr>\n",
       "      <th>315</th>\n",
       "      <td>marabba</td>\n",
       "      <td>12.35</td>\n",
       "      <td>32.1833</td>\n",
       "      <td>78.28</td>\n",
       "      <td>24</td>\n",
       "      <td>17</td>\n",
       "      <td>12.44</td>\n",
       "      <td></td>\n",
       "    </tr>\n",
       "    <tr>\n",
       "      <th>391</th>\n",
       "      <td>aswan</td>\n",
       "      <td>24.0934</td>\n",
       "      <td>32.907</td>\n",
       "      <td>59.9</td>\n",
       "      <td>29</td>\n",
       "      <td>8</td>\n",
       "      <td>7.36</td>\n",
       "      <td></td>\n",
       "    </tr>\n",
       "    <tr>\n",
       "      <th>428</th>\n",
       "      <td>biltine</td>\n",
       "      <td>14.5333</td>\n",
       "      <td>20.9167</td>\n",
       "      <td>70.74</td>\n",
       "      <td>21</td>\n",
       "      <td>88</td>\n",
       "      <td>5.75</td>\n",
       "      <td></td>\n",
       "    </tr>\n",
       "    <tr>\n",
       "      <th>471</th>\n",
       "      <td>adrar</td>\n",
       "      <td>20.5022</td>\n",
       "      <td>-10.0711</td>\n",
       "      <td>69.19</td>\n",
       "      <td>18</td>\n",
       "      <td>0</td>\n",
       "      <td>8.08</td>\n",
       "      <td></td>\n",
       "    </tr>\n",
       "    <tr>\n",
       "      <th>472</th>\n",
       "      <td>yaan</td>\n",
       "      <td>7.3833</td>\n",
       "      <td>8.5667</td>\n",
       "      <td>79.83</td>\n",
       "      <td>16</td>\n",
       "      <td>51</td>\n",
       "      <td>0.72</td>\n",
       "      <td></td>\n",
       "    </tr>\n",
       "    <tr>\n",
       "      <th>475</th>\n",
       "      <td>bara</td>\n",
       "      <td>10.3744</td>\n",
       "      <td>10.7288</td>\n",
       "      <td>74.89</td>\n",
       "      <td>20</td>\n",
       "      <td>48</td>\n",
       "      <td>8.43</td>\n",
       "      <td></td>\n",
       "    </tr>\n",
       "    <tr>\n",
       "      <th>548</th>\n",
       "      <td>tototlan</td>\n",
       "      <td>20.55</td>\n",
       "      <td>-102.8</td>\n",
       "      <td>80.01</td>\n",
       "      <td>20</td>\n",
       "      <td>48</td>\n",
       "      <td>1.99</td>\n",
       "      <td></td>\n",
       "    </tr>\n",
       "  </tbody>\n",
       "</table>\n",
       "</div>"
      ],
      "text/plain": [
       "               city latitude longitude temperature humidity cloudiness   wind  \\\n",
       "9      umm kaddadah  13.6017   26.6876       68.74       22         12  11.61   \n",
       "32         araouane  18.9048   -3.5265       72.81       15          0  10.36   \n",
       "52             jalu  29.0331   21.5482       63.28       27         51  12.17   \n",
       "145            atar  20.5169  -13.0499       71.46       19          0   7.23   \n",
       "160       massakory   12.996   15.7293       77.18       17         91  12.66   \n",
       "174       taoudenni  22.6783   -3.9836       73.26       19          0  12.57   \n",
       "188  lakes entrance -37.8811   147.981          55        1          4      3   \n",
       "213          gaoual    11.75     -13.2       77.52       17          2   1.68   \n",
       "285             ler   8.3018   30.1418       79.12       28          0   5.03   \n",
       "315         marabba    12.35   32.1833       78.28       24         17  12.44   \n",
       "391           aswan  24.0934    32.907        59.9       29          8   7.36   \n",
       "428         biltine  14.5333   20.9167       70.74       21         88   5.75   \n",
       "471           adrar  20.5022  -10.0711       69.19       18          0   8.08   \n",
       "472            yaan   7.3833    8.5667       79.83       16         51   0.72   \n",
       "475            bara  10.3744   10.7288       74.89       20         48   8.43   \n",
       "548        tototlan    20.55    -102.8       80.01       20         48   1.99   \n",
       "\n",
       "    hemisphere  \n",
       "9               \n",
       "32              \n",
       "52              \n",
       "145             \n",
       "160             \n",
       "174             \n",
       "188             \n",
       "213             \n",
       "285             \n",
       "315             \n",
       "391             \n",
       "428             \n",
       "471             \n",
       "472             \n",
       "475             \n",
       "548             "
      ]
     },
     "execution_count": 124,
     "metadata": {},
     "output_type": "execute_result"
    }
   ],
   "source": [
    "weather.loc[weather[\"humidity\"]<30,:]"
   ]
  },
  {
   "cell_type": "code",
   "execution_count": null,
   "metadata": {},
   "outputs": [],
   "source": [
    "# Each dot in this scatterplot represents one city. Its position on the x axis shows how farth north or south it is on earth, with 0 as the equator. Its position on the y axis shows how humid it was there at the time the data was pulled. We can see a group of cities around latitudes 0-30 that are particularly dry, and looking more closely at the data we can see that almost all of them are in the sahara desert."
   ]
  },
  {
   "cell_type": "code",
   "execution_count": 89,
   "metadata": {},
   "outputs": [
    {
     "data": {
      "text/plain": [
       "Text(0.5, 0, 'Latitude')"
      ]
     },
     "execution_count": 89,
     "metadata": {},
     "output_type": "execute_result"
    },
    {
     "data": {
      "image/png": "[encoded data removed]",
      "text/plain": [
       "<Figure size 432x288 with 1 Axes>"
      ]
     },
     "metadata": {
      "needs_background": "light"
     },
     "output_type": "display_data"
    }
   ],
   "source": [
    "plt.scatter(weather[\"latitude\"], weather[\"cloudiness\"])\n",
    "plt.title(\"Latitude vs. Cloudiness\")\n",
    "plt.ylabel(\"Cloudiness\")\n",
    "plt.xlabel(\"Latitude\")"
   ]
  },
  {
   "cell_type": "code",
   "execution_count": null,
   "metadata": {},
   "outputs": [],
   "source": [
    "# Each dot in this scatterplot represents one city. Its position on the x axis shows how farth north or south it is on earth, with 0 as the equator. Its position on the y axis shows how cloudy it was there at the time the data was pulled. At a glance it looks like clouds are pretty evenly distributed. The horizontal bands probably mean that the data isn't precise down to the integer - whoever takes the data probably just estimates 0%, 20%, 40% etc. cloud cover."
   ]
  },
  {
   "cell_type": "code",
   "execution_count": 90,
   "metadata": {},
   "outputs": [
    {
     "data": {
      "text/plain": [
       "Text(0.5, 0, 'Latitude')"
      ]
     },
     "execution_count": 90,
     "metadata": {},
     "output_type": "execute_result"
    },
    {
     "data": {
      "image/png": "[encoded data removed]",
      "text/plain": [
       "<Figure size 432x288 with 1 Axes>"
      ]
     },
     "metadata": {
      "needs_background": "light"
     },
     "output_type": "display_data"
    }
   ],
   "source": [
    "plt.scatter(weather[\"latitude\"], weather[\"wind\"])\n",
    "plt.title(\"Latitude vs. Wind Speed\")\n",
    "plt.ylabel(\"Wind Speed\")\n",
    "plt.xlabel(\"Latitude\")"
   ]
  },
  {
   "cell_type": "code",
   "execution_count": null,
   "metadata": {},
   "outputs": [],
   "source": [
    "# Each dot in this scatterplot represents one city. Its position on the x axis shows how farth north or south it is on earth, with 0 as the equator. Its position on the y axis shows the wind speed at the time the data was pulled. We see a small group of very windy places around 40 degrees north latitude. This isn't as striking as seeing the sahara on the humidity chart, but I do think that's the trade winds. We could look at this data on different days to check if it's consistent or just random storms. "
   ]
  },
  {
   "cell_type": "code",
   "execution_count": null,
   "metadata": {},
   "outputs": [],
   "source": [
    "#regressions! splitting the data into northern vs southern hemisphere and plotting from each one."
   ]
  },
  {
   "cell_type": "code",
   "execution_count": 99,
   "metadata": {},
   "outputs": [],
   "source": [
    "north = weather.loc[weather[\"latitude\"]>0,:]\n",
    "south = weather.loc[weather[\"latitude\"]<=0,:]"
   ]
  },
  {
   "cell_type": "code",
   "execution_count": 118,
   "metadata": {},
   "outputs": [
    {
     "data": {
      "text/plain": [
       "Text(5, -30, 'y = -1.49x + 94.71')"
      ]
     },
     "execution_count": 118,
     "metadata": {},
     "output_type": "execute_result"
    },
    {
     "data": {
      "image/png": "[encoded data removed]",
      "text/plain": [
       "<Figure size 864x432 with 2 Axes>"
      ]
     },
     "metadata": {
      "needs_background": "light"
     },
     "output_type": "display_data"
    }
   ],
   "source": [
    "fig, (south_sub, north_sub) = plt.subplots(nrows=1, ncols=2, sharey=True, figsize=(12, 6))\n",
    "fig.suptitle(\"Latitude vs. Temperature\")\n",
    "south_sub.set_ylabel(\"Temperature\")\n",
    "\n",
    "south_sub.scatter(south[\"latitude\"],south[\"temperature\"])\n",
    "south_sub.set_title(\"Southern Hemisphere\")\n",
    "\n",
    "(south_slope, south_intercept, south_rvalue, south_pvalue, south_stderr) = linregress(south[\"latitude\"].astype(float),south[\"temperature\"].astype(float))\n",
    "south_regress = south[\"latitude\"] * south_slope + south_intercept\n",
    "south_line = \"y = \" + str(round(south_slope,2)) + \"x + \" + str(round(south_intercept,2))\n",
    "\n",
    "south_sub.plot(south[\"latitude\"],south_regress,\"r-\")\n",
    "south_sub.annotate(south_line,(-40,0),fontsize=15,color=\"red\")\n",
    "\n",
    "\n",
    "north_sub.scatter(north[\"latitude\"],north[\"temperature\"])\n",
    "north_sub.set_title(\"Northern Hemisphere\")\n",
    "\n",
    "(north_slope, north_intercept, north_rvalue, north_pvalue, north_stderr) = linregress(north[\"latitude\"].astype(float),north[\"temperature\"].astype(float))\n",
    "north_regress = north[\"latitude\"] * north_slope + north_intercept\n",
    "north_line = \"y = \" + str(round(north_slope,2)) + \"x + \" + str(round(north_intercept,2))\n",
    "\n",
    "north_sub.plot(north[\"latitude\"],north_regress,\"r-\")\n",
    "north_sub.annotate(north_line,(5,-30),fontsize=15,color=\"red\")\n",
    "\n",
    "# cast df columns as floats based on this thread: https://stackoverflow.com/questions/53200129/attributeerror-float-object-has-no-attribute-shape-when-using-linregress\n",
    "# after getting an error in the linear regression"
   ]
  },
  {
   "cell_type": "code",
   "execution_count": null,
   "metadata": {},
   "outputs": [],
   "source": [
    "# The linear regression shows how much temperature varies with latitude in each hemisphere at the time the data was pulled. In each case, temperature decreases with latitudes farther away from the equator. At the moment it varies much more with latitude in the northern hemisphere, most likely because it is winter here, and because there are many fewer cities in the southern hemisphere outside the subtropical zone (<35 degrees latitude in either direction)."
   ]
  },
  {
   "cell_type": "code",
   "execution_count": null,
   "metadata": {},
   "outputs": [],
   "source": [
    "# The linear regression shows how much humidity varies with latitude in each hemisphere at the time the data was pulled. In the southern hemisphere, humidity increases as latitudes approach the equator, but in the northern hemisphere, they decrease. A lot of this correlation is just measuring the existence of the sahara desert (lat 0-30 and of course, very dry), as we saw above. "
   ]
  },
  {
   "cell_type": "code",
   "execution_count": 129,
   "metadata": {},
   "outputs": [
    {
     "data": {
      "text/plain": [
       "Text(40, 20, 'y = 0.35x + 61.42')"
      ]
     },
     "execution_count": 129,
     "metadata": {},
     "output_type": "execute_result"
    },
    {
     "data": {
      "image/png": "[encoded data removed]",
      "text/plain": [
       "<Figure size 864x432 with 2 Axes>"
      ]
     },
     "metadata": {
      "needs_background": "light"
     },
     "output_type": "display_data"
    }
   ],
   "source": [
    "fig, (south_sub, north_sub) = plt.subplots(nrows=1, ncols=2, sharey=True, figsize=(12, 6))\n",
    "fig.suptitle(\"Latitude vs. Humidity\")\n",
    "south_sub.set_ylabel(\"Humidity\")\n",
    "\n",
    "south_sub.scatter(south[\"latitude\"],south[\"humidity\"])\n",
    "south_sub.set_title(\"Southern Hemisphere\")\n",
    "\n",
    "(south_slope, south_intercept, south_rvalue, south_pvalue, south_stderr) = linregress(south[\"latitude\"].astype(float),south[\"humidity\"].astype(float))\n",
    "south_regress = south[\"latitude\"] * south_slope + south_intercept\n",
    "south_line = \"y = \" + str(round(south_slope,2)) + \"x + \" + str(round(south_intercept,2))\n",
    "\n",
    "south_sub.plot(south[\"latitude\"],south_regress,\"r-\")\n",
    "south_sub.annotate(south_line,(-40,10),fontsize=15,color=\"red\")\n",
    "\n",
    "\n",
    "north_sub.scatter(north[\"latitude\"],north[\"humidity\"])\n",
    "north_sub.set_title(\"Northern Hemisphere\")\n",
    "\n",
    "(north_slope, north_intercept, north_rvalue, north_pvalue, north_stderr) = linregress(north[\"latitude\"].astype(float),north[\"humidity\"].astype(float))\n",
    "north_regress = north[\"latitude\"] * north_slope + north_intercept\n",
    "north_line = \"y = \" + str(round(north_slope,2)) + \"x + \" + str(round(north_intercept,2))\n",
    "\n",
    "north_sub.plot(north[\"latitude\"],north_regress,\"r-\")\n",
    "north_sub.annotate(north_line,(40,20),fontsize=15,color=\"red\")"
   ]
  },
  {
   "cell_type": "code",
   "execution_count": null,
   "metadata": {},
   "outputs": [],
   "source": [
    "# The linear regression shows how much humidity varies with latitude in each hemisphere at the time the data was pulled. In the southern hemisphere, humidity increases as latitudes approach the equator, but in the northern hemisphere, they decrease. A lot of the northern hemisphere's correlation is just measuring the existence of the sahara desert (lat 0-30 and of course, very dry), as we saw above."
   ]
  },
  {
   "cell_type": "code",
   "execution_count": 130,
   "metadata": {},
   "outputs": [
    {
     "data": {
      "text/plain": [
       "Text(40, 45, 'y = 0.59x + 33.02')"
      ]
     },
     "execution_count": 130,
     "metadata": {},
     "output_type": "execute_result"
    },
    {
     "data": {
      "image/png": "[encoded data removed]",
      "text/plain": [
       "<Figure size 864x432 with 2 Axes>"
      ]
     },
     "metadata": {
      "needs_background": "light"
     },
     "output_type": "display_data"
    }
   ],
   "source": [
    "fig, (south_sub, north_sub) = plt.subplots(nrows=1, ncols=2, sharey=True, figsize=(12, 6))\n",
    "fig.suptitle(\"Latitude vs. Cloudiness\")\n",
    "south_sub.set_ylabel(\"% Cloud Cover\")\n",
    "\n",
    "south_sub.scatter(south[\"latitude\"],south[\"cloudiness\"])\n",
    "south_sub.set_title(\"Southern Hemisphere\")\n",
    "\n",
    "(south_slope, south_intercept, south_rvalue, south_pvalue, south_stderr) = linregress(south[\"latitude\"].astype(float),south[\"cloudiness\"].astype(float))\n",
    "south_regress = south[\"latitude\"] * south_slope + south_intercept\n",
    "south_line = \"y = \" + str(round(south_slope,2)) + \"x + \" + str(round(south_intercept,2))\n",
    "\n",
    "south_sub.plot(south[\"latitude\"],south_regress,\"r-\")\n",
    "south_sub.annotate(south_line,(-50,60),fontsize=15,color=\"red\")\n",
    "\n",
    "north_sub.scatter(north[\"latitude\"],north[\"cloudiness\"])\n",
    "north_sub.set_title(\"Northern Hemisphere\")\n",
    "\n",
    "(north_slope, north_intercept, north_rvalue, north_pvalue, north_stderr) = linregress(north[\"latitude\"].astype(float),north[\"cloudiness\"].astype(float))\n",
    "north_regress = north[\"latitude\"] * north_slope + north_intercept\n",
    "north_line = \"y = \" + str(round(north_slope,2)) + \"x + \" + str(round(north_intercept,2))\n",
    "\n",
    "north_sub.plot(north[\"latitude\"],north_regress,\"r-\")\n",
    "north_sub.annotate(north_line,(40,45),fontsize=15,color=\"red\")"
   ]
  },
  {
   "cell_type": "code",
   "execution_count": null,
   "metadata": {},
   "outputs": [],
   "source": [
    "# The linear regression shows how much humidity varies with latitude in each hemisphere at the time the data was pulled. In the southern hemisphere, cloud cover increases as latitudes approach the equator, but in the northern hemisphere, it decreases. This is most likely an effect of humidity."
   ]
  },
  {
   "cell_type": "code",
   "execution_count": 133,
   "metadata": {},
   "outputs": [
    {
     "data": {
      "text/plain": [
       "Text(0, 30, 'y = 0.01x + 8.19')"
      ]
     },
     "execution_count": 133,
     "metadata": {},
     "output_type": "execute_result"
    },
    {
     "data": {
      "image/png": "[encoded data removed]",
      "text/plain": [
       "<Figure size 864x432 with 2 Axes>"
      ]
     },
     "metadata": {
      "needs_background": "light"
     },
     "output_type": "display_data"
    }
   ],
   "source": [
    "fig, (south_sub, north_sub) = plt.subplots(nrows=1, ncols=2, sharey=True, figsize=(12, 6))\n",
    "fig.suptitle(\"Latitude vs. Wind Speed\")\n",
    "south_sub.set_ylabel(\"Wind Speed\")\n",
    "\n",
    "south_sub.scatter(south[\"latitude\"],south[\"wind\"])\n",
    "south_sub.set_title(\"Southern Hemisphere\")\n",
    "\n",
    "(south_slope, south_intercept, south_rvalue, south_pvalue, south_stderr) = linregress(south[\"latitude\"].astype(float),south[\"wind\"].astype(float))\n",
    "south_regress = south[\"latitude\"] * south_slope + south_intercept\n",
    "south_line = \"y = \" + str(round(south_slope,2)) + \"x + \" + str(round(south_intercept,2))\n",
    "\n",
    "south_sub.plot(south[\"latitude\"],south_regress,\"r-\")\n",
    "south_sub.annotate(south_line,(-40,35),fontsize=15,color=\"red\")\n",
    "\n",
    "north_sub.scatter(north[\"latitude\"],north[\"wind\"])\n",
    "north_sub.set_title(\"Northern Hemisphere\")\n",
    "\n",
    "(north_slope, north_intercept, north_rvalue, north_pvalue, north_stderr) = linregress(north[\"latitude\"].astype(float),north[\"wind\"].astype(float))\n",
    "north_regress = north[\"latitude\"] * north_slope + north_intercept\n",
    "north_line = \"y = \" + str(round(north_slope,2)) + \"x + \" + str(round(north_intercept,2))\n",
    "\n",
    "north_sub.plot(north[\"latitude\"],north_regress,\"r-\")\n",
    "north_sub.annotate(north_line,(0,30),fontsize=15,color=\"red\")"
   ]
  },
  {
   "cell_type": "code",
   "execution_count": null,
   "metadata": {},
   "outputs": [],
   "source": [
    " #The linear regression shows how much wind speed varies with latitude in each hemisphere at the time the data was pulled. In both hemispheres there is no strong correlation. Although seeing the scatter plots broken out like this does give a very satisfying look at Tierra Del Fuego (latitude <-50) and those trade winds!"
   ]
  },
  {
   "cell_type": "code",
   "execution_count": 134,
   "metadata": {},
   "outputs": [
    {
     "data": {
      "text/html": [
       "<div>\n",
       "<style scoped>\n",
       "    .dataframe tbody tr th:only-of-type {\n",
       "        vertical-align: middle;\n",
       "    }\n",
       "\n",
       "    .dataframe tbody tr th {\n",
       "        vertical-align: top;\n",
       "    }\n",
       "\n",
       "    .dataframe thead th {\n",
       "        text-align: right;\n",
       "    }\n",
       "</style>\n",
       "<table border=\"1\" class=\"dataframe\">\n",
       "  <thead>\n",
       "    <tr style=\"text-align: right;\">\n",
       "      <th></th>\n",
       "      <th>city</th>\n",
       "      <th>latitude</th>\n",
       "      <th>longitude</th>\n",
       "      <th>temperature</th>\n",
       "      <th>humidity</th>\n",
       "      <th>cloudiness</th>\n",
       "      <th>wind</th>\n",
       "      <th>hemisphere</th>\n",
       "    </tr>\n",
       "  </thead>\n",
       "  <tbody>\n",
       "    <tr>\n",
       "      <th>5</th>\n",
       "      <td>ushuaia</td>\n",
       "      <td>-54.8</td>\n",
       "      <td>-68.3</td>\n",
       "      <td>42.8</td>\n",
       "      <td>70</td>\n",
       "      <td>90</td>\n",
       "      <td>28.77</td>\n",
       "      <td></td>\n",
       "    </tr>\n",
       "    <tr>\n",
       "      <th>67</th>\n",
       "      <td>punta arenas</td>\n",
       "      <td>-53.15</td>\n",
       "      <td>-70.9167</td>\n",
       "      <td>50</td>\n",
       "      <td>50</td>\n",
       "      <td>20</td>\n",
       "      <td>27.63</td>\n",
       "      <td></td>\n",
       "    </tr>\n",
       "  </tbody>\n",
       "</table>\n",
       "</div>"
      ],
      "text/plain": [
       "            city latitude longitude temperature humidity cloudiness   wind  \\\n",
       "5        ushuaia    -54.8     -68.3        42.8       70         90  28.77   \n",
       "67  punta arenas   -53.15  -70.9167          50       50         20  27.63   \n",
       "\n",
       "   hemisphere  \n",
       "5              \n",
       "67             "
      ]
     },
     "execution_count": 134,
     "metadata": {},
     "output_type": "execute_result"
    }
   ],
   "source": [
    "#Tierra Del Fuego!\n",
    "\n",
    "weather.loc[weather[\"latitude\"]<-50,:]"
   ]
  },
  {
   "cell_type": "code",
   "execution_count": null,
   "metadata": {},
   "outputs": [],
   "source": []
  }
 ],
 "metadata": {
  "kernelspec": {
   "display_name": "Python 3",
   "language": "python",
   "name": "python3"
  },
  "language_info": {
   "codemirror_mode": {
    "name": "ipython",
    "version": 3
   },
   "file_extension": ".py",
   "mimetype": "text/x-python",
   "name": "python",
   "nbconvert_exporter": "python",
   "pygments_lexer": "ipython3",
   "version": "3.8.5"
  }
 },
 "nbformat": 4,
 "nbformat_minor": 4
}
